{
 "cells": [
  {
   "cell_type": "markdown",
   "metadata": {},
   "source": [
    "### 1. Understand the problem\n",
    "This projects aims at predicting house prices (residential) in Ames, Iowa, USA. "
   ]
  },
  {
   "cell_type": "markdown",
   "metadata": {},
   "source": [
    "### 2. Hypothesis Generation\n",
    "\n",
    "What factors can you think of right now which can influence house prices ? As you read this, I want you to write down your factors as well, then we can match them with the data set. Defining a hypothesis has two parts: Null Hypothesis (Ho) and Alternate Hypothesis(Ha). They can be understood as:\n",
    "\n",
    "- Null Hypothesis - There exists no impact of a particular feature on the dependent variable. \n",
    "- Alternate Hypotheis - There exists a direct impact of a particular feature on the dependent variable.\n",
    "\n",
    "Based on a decision criterion (say, 5% significance level), we always 'reject' or 'fail to reject' the null hypothesis in statistical parlance. Practically, while model building we look for probability (p) values. If p value < 0.05, we reject the null hypothesis. If p > 0.05, we fail to reject the null hypothesis. Some factors which I can think of that directly influence house prices are the following:\n",
    "\n",
    "- Area of House\n",
    "- How old is the house\n",
    "- Location of the house\n",
    "- How close/far is the market\n",
    "- Connectivity of house location with transport\n",
    "- How many floors does the house have\n",
    "- What material is used in the construction\n",
    "- Water /Electricity availability\n",
    "- Play area / parks for kids (if any)\n",
    "- If terrace is available\n",
    "- If car parking is available\n",
    "- If security is available"
   ]
  },
  {
   "cell_type": "markdown",
   "metadata": {},
   "source": [
    "### 3. Get Data\n",
    "You can download the data and load it in your python IDE. Also, check the competition page where all the details about the data and variables are given."
   ]
  },
  {
   "cell_type": "markdown",
   "metadata": {},
   "source": [
    "### 4. Data Exploration\n",
    "Data Exploration is the key to getting insights from data. \n",
    "A good data exploration strategy comprises the following:\n",
    "\n",
    "1. Univariate Analysis - It is used to visualize one variable in one plot. Examples: histogram, density plot, etc.\n",
    "2. Bivariate Analysis - It is used to visualize two variables (x and y axis) in one plot. Examples: bar chart, line chart, area chart, etc.\n",
    "3. Multivariate Analysis - As the name suggests, it is used to visualize more than two variables at once. Examples: stacked bar chart, dodged bar chart, etc.\n",
    "4. Cross Tables -They are used to compare the behavior of two categorical variables (used in pivot tables as well).\n",
    "\n",
    "Let's load the necessary libraries and data and start coding."
   ]
  },
  {
   "cell_type": "code",
   "execution_count": 1,
   "metadata": {},
   "outputs": [],
   "source": [
    "#Loading libraries \n",
    "import numpy as np \n",
    "import pandas as pd\n",
    "import matplotlib.pyplot as plt\n",
    "%matplotlib inline\n",
    "plt.rcParams['figure.figsize'] = (10.0, 8.0)\n",
    "import seaborn as sns\n",
    "from scipy import stats\n",
    "from scipy.stats import norm"
   ]
  },
  {
   "cell_type": "code",
   "execution_count": 2,
   "metadata": {},
   "outputs": [],
   "source": [
    "#loading data\n",
    "train = pd.read_csv(\"./data/train.csv\")\n",
    "test = pd.read_csv(\"./data/test.csv\")"
   ]
  },
  {
   "cell_type": "markdown",
   "metadata": {},
   "source": [
    "After we read the data, we can look at the data using:"
   ]
  },
  {
   "cell_type": "code",
   "execution_count": 3,
   "metadata": {},
   "outputs": [
    {
     "data": {
      "text/html": [
       "<div>\n",
       "<style>\n",
       "    .dataframe thead tr:only-child th {\n",
       "        text-align: right;\n",
       "    }\n",
       "\n",
       "    .dataframe thead th {\n",
       "        text-align: left;\n",
       "    }\n",
       "\n",
       "    .dataframe tbody tr th {\n",
       "        vertical-align: top;\n",
       "    }\n",
       "</style>\n",
       "<table border=\"1\" class=\"dataframe\">\n",
       "  <thead>\n",
       "    <tr style=\"text-align: right;\">\n",
       "      <th></th>\n",
       "      <th>Id</th>\n",
       "      <th>MSSubClass</th>\n",
       "      <th>MSZoning</th>\n",
       "      <th>LotFrontage</th>\n",
       "      <th>LotArea</th>\n",
       "      <th>Street</th>\n",
       "      <th>Alley</th>\n",
       "      <th>LotShape</th>\n",
       "      <th>LandContour</th>\n",
       "      <th>Utilities</th>\n",
       "      <th>...</th>\n",
       "      <th>PoolArea</th>\n",
       "      <th>PoolQC</th>\n",
       "      <th>Fence</th>\n",
       "      <th>MiscFeature</th>\n",
       "      <th>MiscVal</th>\n",
       "      <th>MoSold</th>\n",
       "      <th>YrSold</th>\n",
       "      <th>SaleType</th>\n",
       "      <th>SaleCondition</th>\n",
       "      <th>SalePrice</th>\n",
       "    </tr>\n",
       "  </thead>\n",
       "  <tbody>\n",
       "    <tr>\n",
       "      <th>0</th>\n",
       "      <td>1</td>\n",
       "      <td>60</td>\n",
       "      <td>RL</td>\n",
       "      <td>65.0</td>\n",
       "      <td>8450</td>\n",
       "      <td>Pave</td>\n",
       "      <td>NaN</td>\n",
       "      <td>Reg</td>\n",
       "      <td>Lvl</td>\n",
       "      <td>AllPub</td>\n",
       "      <td>...</td>\n",
       "      <td>0</td>\n",
       "      <td>NaN</td>\n",
       "      <td>NaN</td>\n",
       "      <td>NaN</td>\n",
       "      <td>0</td>\n",
       "      <td>2</td>\n",
       "      <td>2008</td>\n",
       "      <td>WD</td>\n",
       "      <td>Normal</td>\n",
       "      <td>208500</td>\n",
       "    </tr>\n",
       "    <tr>\n",
       "      <th>1</th>\n",
       "      <td>2</td>\n",
       "      <td>20</td>\n",
       "      <td>RL</td>\n",
       "      <td>80.0</td>\n",
       "      <td>9600</td>\n",
       "      <td>Pave</td>\n",
       "      <td>NaN</td>\n",
       "      <td>Reg</td>\n",
       "      <td>Lvl</td>\n",
       "      <td>AllPub</td>\n",
       "      <td>...</td>\n",
       "      <td>0</td>\n",
       "      <td>NaN</td>\n",
       "      <td>NaN</td>\n",
       "      <td>NaN</td>\n",
       "      <td>0</td>\n",
       "      <td>5</td>\n",
       "      <td>2007</td>\n",
       "      <td>WD</td>\n",
       "      <td>Normal</td>\n",
       "      <td>181500</td>\n",
       "    </tr>\n",
       "    <tr>\n",
       "      <th>2</th>\n",
       "      <td>3</td>\n",
       "      <td>60</td>\n",
       "      <td>RL</td>\n",
       "      <td>68.0</td>\n",
       "      <td>11250</td>\n",
       "      <td>Pave</td>\n",
       "      <td>NaN</td>\n",
       "      <td>IR1</td>\n",
       "      <td>Lvl</td>\n",
       "      <td>AllPub</td>\n",
       "      <td>...</td>\n",
       "      <td>0</td>\n",
       "      <td>NaN</td>\n",
       "      <td>NaN</td>\n",
       "      <td>NaN</td>\n",
       "      <td>0</td>\n",
       "      <td>9</td>\n",
       "      <td>2008</td>\n",
       "      <td>WD</td>\n",
       "      <td>Normal</td>\n",
       "      <td>223500</td>\n",
       "    </tr>\n",
       "    <tr>\n",
       "      <th>3</th>\n",
       "      <td>4</td>\n",
       "      <td>70</td>\n",
       "      <td>RL</td>\n",
       "      <td>60.0</td>\n",
       "      <td>9550</td>\n",
       "      <td>Pave</td>\n",
       "      <td>NaN</td>\n",
       "      <td>IR1</td>\n",
       "      <td>Lvl</td>\n",
       "      <td>AllPub</td>\n",
       "      <td>...</td>\n",
       "      <td>0</td>\n",
       "      <td>NaN</td>\n",
       "      <td>NaN</td>\n",
       "      <td>NaN</td>\n",
       "      <td>0</td>\n",
       "      <td>2</td>\n",
       "      <td>2006</td>\n",
       "      <td>WD</td>\n",
       "      <td>Abnorml</td>\n",
       "      <td>140000</td>\n",
       "    </tr>\n",
       "    <tr>\n",
       "      <th>4</th>\n",
       "      <td>5</td>\n",
       "      <td>60</td>\n",
       "      <td>RL</td>\n",
       "      <td>84.0</td>\n",
       "      <td>14260</td>\n",
       "      <td>Pave</td>\n",
       "      <td>NaN</td>\n",
       "      <td>IR1</td>\n",
       "      <td>Lvl</td>\n",
       "      <td>AllPub</td>\n",
       "      <td>...</td>\n",
       "      <td>0</td>\n",
       "      <td>NaN</td>\n",
       "      <td>NaN</td>\n",
       "      <td>NaN</td>\n",
       "      <td>0</td>\n",
       "      <td>12</td>\n",
       "      <td>2008</td>\n",
       "      <td>WD</td>\n",
       "      <td>Normal</td>\n",
       "      <td>250000</td>\n",
       "    </tr>\n",
       "  </tbody>\n",
       "</table>\n",
       "<p>5 rows × 81 columns</p>\n",
       "</div>"
      ],
      "text/plain": [
       "   Id  MSSubClass MSZoning  LotFrontage  LotArea Street Alley LotShape  \\\n",
       "0   1          60       RL         65.0     8450   Pave   NaN      Reg   \n",
       "1   2          20       RL         80.0     9600   Pave   NaN      Reg   \n",
       "2   3          60       RL         68.0    11250   Pave   NaN      IR1   \n",
       "3   4          70       RL         60.0     9550   Pave   NaN      IR1   \n",
       "4   5          60       RL         84.0    14260   Pave   NaN      IR1   \n",
       "\n",
       "  LandContour Utilities    ...     PoolArea PoolQC Fence MiscFeature MiscVal  \\\n",
       "0         Lvl    AllPub    ...            0    NaN   NaN         NaN       0   \n",
       "1         Lvl    AllPub    ...            0    NaN   NaN         NaN       0   \n",
       "2         Lvl    AllPub    ...            0    NaN   NaN         NaN       0   \n",
       "3         Lvl    AllPub    ...            0    NaN   NaN         NaN       0   \n",
       "4         Lvl    AllPub    ...            0    NaN   NaN         NaN       0   \n",
       "\n",
       "  MoSold YrSold  SaleType  SaleCondition  SalePrice  \n",
       "0      2   2008        WD         Normal     208500  \n",
       "1      5   2007        WD         Normal     181500  \n",
       "2      9   2008        WD         Normal     223500  \n",
       "3      2   2006        WD        Abnorml     140000  \n",
       "4     12   2008        WD         Normal     250000  \n",
       "\n",
       "[5 rows x 81 columns]"
      ]
     },
     "execution_count": 3,
     "metadata": {},
     "output_type": "execute_result"
    }
   ],
   "source": [
    "train.head()"
   ]
  },
  {
   "cell_type": "code",
   "execution_count": 5,
   "metadata": {},
   "outputs": [
    {
     "name": "stdout",
     "output_type": "stream",
     "text": [
      "The train data has 1460 rows and 81 columns\n",
      "--------------------------------------------\n",
      "The test data has 1459 rows and 80 columns\n"
     ]
    }
   ],
   "source": [
    "print ('The train data has {0} rows and {1} columns'.format(train.shape[0],train.shape[1]))\n",
    "print ('--------------------------------------------')\n",
    "print ('The test data has {0} rows and {1} columns'.format(test.shape[0],test.shape[1]))"
   ]
  },
  {
   "cell_type": "markdown",
   "metadata": {},
   "source": [
    "Let's check if the data set has any missing values."
   ]
  },
  {
   "cell_type": "code",
   "execution_count": 6,
   "metadata": {},
   "outputs": [
    {
     "name": "stdout",
     "output_type": "stream",
     "text": [
      "Index(['LotFrontage', 'Alley', 'MasVnrType', 'MasVnrArea', 'BsmtQual',\n",
      "       'BsmtCond', 'BsmtExposure', 'BsmtFinType1', 'BsmtFinType2',\n",
      "       'Electrical', 'FireplaceQu', 'GarageType', 'GarageYrBlt',\n",
      "       'GarageFinish', 'GarageQual', 'GarageCond', 'PoolQC', 'Fence',\n",
      "       'MiscFeature'],\n",
      "      dtype='object')\n",
      "\n",
      "\n",
      " 19 --> Features have missing values\n"
     ]
    }
   ],
   "source": [
    "#check missing values\n",
    "print(train.columns[train.isnull().any()])\n",
    "print('\\n\\n',len(train.columns[train.isnull().any()]),'--> Features have missing values')"
   ]
  },
  {
   "cell_type": "markdown",
   "metadata": {},
   "source": [
    "Out of 81 features, 19 features have missing values. Let's check the percentage of missing values in these columns."
   ]
  },
  {
   "cell_type": "code",
   "execution_count": 7,
   "metadata": {},
   "outputs": [
    {
     "data": {
      "text/plain": [
       "Electrical      0.000685\n",
       "MasVnrType      0.005479\n",
       "MasVnrArea      0.005479\n",
       "BsmtQual        0.025342\n",
       "BsmtCond        0.025342\n",
       "BsmtFinType1    0.025342\n",
       "BsmtExposure    0.026027\n",
       "BsmtFinType2    0.026027\n",
       "GarageCond      0.055479\n",
       "GarageQual      0.055479\n",
       "GarageFinish    0.055479\n",
       "GarageType      0.055479\n",
       "GarageYrBlt     0.055479\n",
       "LotFrontage     0.177397\n",
       "FireplaceQu     0.472603\n",
       "Fence           0.807534\n",
       "Alley           0.937671\n",
       "MiscFeature     0.963014\n",
       "PoolQC          0.995205\n",
       "dtype: float64"
      ]
     },
     "execution_count": 7,
     "metadata": {},
     "output_type": "execute_result"
    }
   ],
   "source": [
    "#missing value counts in each of these columns\n",
    "miss = train.isnull().sum()/len(train)\n",
    "miss = miss[miss > 0]\n",
    "miss.sort_values(inplace=True)\n",
    "miss"
   ]
  },
  {
   "cell_type": "markdown",
   "metadata": {},
   "source": [
    "We can infer that the variable PoolQC has 99.5% missing values followed by MiscFeature, Alley, and Fence. Let's look at a pretty picture explaining these missing values using a bar plot."
   ]
  },
  {
   "cell_type": "code",
   "execution_count": 8,
   "metadata": {},
   "outputs": [
    {
     "data": {
      "image/png": "[encoded data removed]",
      "text/plain": [
       "<matplotlib.figure.Figure at 0x20943bed710>"
      ]
     },
     "metadata": {},
     "output_type": "display_data"
    }
   ],
   "source": [
    "#visualising missing values\n",
    "miss = miss.to_frame()\n",
    "\n",
    "miss.columns = ['count']\n",
    "miss.index.names = ['Name']\n",
    "miss['Name'] = miss.index\n",
    "\n",
    "#plot the missing value count\n",
    "sns.set(style=\"whitegrid\", color_codes=True)\n",
    "sns.barplot(x = 'Name', y = 'count', data=miss)\n",
    "plt.xticks(rotation = 90)\n",
    "plt.show()"
   ]
  },
  {
   "cell_type": "markdown",
   "metadata": {},
   "source": [
    "Let's proceed and check the distribution of the target variable."
   ]
  },
  {
   "cell_type": "code",
   "execution_count": 9,
   "metadata": {},
   "outputs": [
    {
     "data": {
      "text/plain": [
       "<matplotlib.axes._subplots.AxesSubplot at 0x20943d76be0>"
      ]
     },
     "execution_count": 9,
     "metadata": {},
     "output_type": "execute_result"
    },
    {
     "data": {
      "image/png": "[encoded data removed]",
      "text/plain": [
       "<matplotlib.figure.Figure at 0x20943bec7f0>"
      ]
     },
     "metadata": {},
     "output_type": "display_data"
    }
   ],
   "source": [
    "#SalePrice\n",
    "sns.distplot(train['SalePrice'])"
   ]
  },
  {
   "cell_type": "markdown",
   "metadata": {},
   "source": [
    "If one tail is longer than another, the distribution is skewed.\n",
    "\n",
    "A right-skewed distribution has a long right tail. Right-skewed distributions are also called positive-skew distributions. That’s because there is a long tail in the positive direction on the number line. The mean is also to the right of the peak.\n",
    "\n",
    "We see that the target variable SalePrice has a right-skewed distribution.\n",
    "\n",
    "We'll need to log transform this variable so that it becomes normally distributed. \n",
    "\n",
    "A normally distributed (or close to normal) target variable helps in better modeling the relationship between target and independent variables. In addition, linear algorithms assume constant variance in the error term. Alternatively, we can also confirm this skewed behavior using the skewness metric.\n",
    "\n"
   ]
  },
  {
   "cell_type": "code",
   "execution_count": 11,
   "metadata": {},
   "outputs": [
    {
     "name": "stdout",
     "output_type": "stream",
     "text": [
      "The skewness of SalePrice is 1.8828757597682129\n"
     ]
    }
   ],
   "source": [
    "#skewness ->essentially measures the relative size of the two tails. \n",
    "print(\"The skewness of SalePrice is {}\".format(train['SalePrice'].skew()))\n"
   ]
  },
  {
   "cell_type": "markdown",
   "metadata": {},
   "source": [
    "Let's log transform this variable and see if this variable distribution can get any closer to normal."
   ]
  },
  {
   "cell_type": "code",
   "execution_count": 12,
   "metadata": {},
   "outputs": [
    {
     "name": "stdout",
     "output_type": "stream",
     "text": [
      "Skewness is 0.12133506220520406\n"
     ]
    },
    {
     "data": {
      "text/plain": [
       "<matplotlib.axes._subplots.AxesSubplot at 0x20943d6c4a8>"
      ]
     },
     "execution_count": 12,
     "metadata": {},
     "output_type": "execute_result"
    },
    {
     "data": {
      "image/png": "[encoded data removed]",
      "text/plain": [
       "<matplotlib.figure.Figure at 0x20943d37358>"
      ]
     },
     "metadata": {},
     "output_type": "display_data"
    }
   ],
   "source": [
    "#now transforming the target variable\n",
    "target = np.log(train['SalePrice'])\n",
    "print ('Skewness is', target.skew())\n",
    "sns.distplot(target)"
   ]
  },
  {
   "cell_type": "code",
   "execution_count": 13,
   "metadata": {},
   "outputs": [
    {
     "name": "stdout",
     "output_type": "stream",
     "text": [
      "There are 38 numeric and 43 categorical columns in train data\n"
     ]
    }
   ],
   "source": [
    "#separate variables into new data frames\n",
    "numeric_data = train.select_dtypes(include=[np.number])\n",
    "cat_data = train.select_dtypes(exclude=[np.number])\n",
    "print (\"There are {} numeric and {} categorical columns in train data\".format(numeric_data.shape[1],cat_data.shape[1]))"
   ]
  },
  {
   "cell_type": "markdown",
   "metadata": {},
   "source": [
    "We should remove the Id variable from numeric data."
   ]
  },
  {
   "cell_type": "code",
   "execution_count": 16,
   "metadata": {},
   "outputs": [],
   "source": [
    "del(numeric_data['Id'])"
   ]
  },
  {
   "cell_type": "markdown",
   "metadata": {},
   "source": [
    "Now, we are interested to learn about the correlation behavior of numeric variables. \n",
    "\n",
    "Out of 38 variables, I presume some of them must be correlated. If found, we can later remove these correlated variables as they won't provide any useful information to the model."
   ]
  },
  {
   "cell_type": "code",
   "execution_count": 17,
   "metadata": {},
   "outputs": [
    {
     "data": {
      "text/plain": [
       "<matplotlib.axes._subplots.AxesSubplot at 0x20946051438>"
      ]
     },
     "execution_count": 17,
     "metadata": {},
     "output_type": "execute_result"
    },
    {
     "data": {
      "image/png": "[encoded data removed]",
      "text/plain": [
       "<matplotlib.figure.Figure at 0x2094602f0f0>"
      ]
     },
     "metadata": {},
     "output_type": "display_data"
    }
   ],
   "source": [
    "#correlation plot\n",
    "corr = numeric_data.corr()\n",
    "sns.heatmap(corr)"
   ]
  },
  {
   "cell_type": "markdown",
   "metadata": {},
   "source": [
    "Notice the last row of this map. We can see the correlation of all variables against SalePrice. \n",
    "\n",
    "As you can see, some variables seem to be strongly correlated with the target variable. Here, a numeric correlation score will help us understand the graph better."
   ]
  },
  {
   "cell_type": "code",
   "execution_count": 18,
   "metadata": {},
   "outputs": [
    {
     "name": "stdout",
     "output_type": "stream",
     "text": [
      "SalePrice       1.000000\n",
      "OverallQual     0.790982\n",
      "GrLivArea       0.708624\n",
      "GarageCars      0.640409\n",
      "GarageArea      0.623431\n",
      "TotalBsmtSF     0.613581\n",
      "1stFlrSF        0.605852\n",
      "FullBath        0.560664\n",
      "TotRmsAbvGrd    0.533723\n",
      "YearBuilt       0.522897\n",
      "YearRemodAdd    0.507101\n",
      "GarageYrBlt     0.486362\n",
      "MasVnrArea      0.477493\n",
      "Fireplaces      0.466929\n",
      "BsmtFinSF1      0.386420\n",
      "Name: SalePrice, dtype: float64 \n",
      "\n",
      "--------------------------------------------------------\n",
      "YrSold          -0.028923\n",
      "OverallCond     -0.077856\n",
      "MSSubClass      -0.084284\n",
      "EnclosedPorch   -0.128578\n",
      "KitchenAbvGr    -0.135907\n",
      "Name: SalePrice, dtype: float64\n"
     ]
    }
   ],
   "source": [
    "print (corr['SalePrice'].sort_values(ascending=False)[:15], '\\n') #top 15 values\n",
    "print ('--------------------------------------------------------')\n",
    "print (corr['SalePrice'].sort_values(ascending=False)[-5:]) #last 5 values`\n"
   ]
  },
  {
   "cell_type": "markdown",
   "metadata": {},
   "source": [
    "Here we see that the OverallQual feature is 79% correlated with the target variable. \n",
    "\n",
    "Overallqual feature refers to the overall material and quality of the materials of the completed house. Well, this make sense as well. \n",
    "\n",
    "People usually consider these parameters for their dream house. In addition, GrLivArea is 70% correlated with the target variable. GrLivArea refers to the living area (in sq ft.) above ground. \n",
    "\n",
    "The following variables show people also care about if the house has a garage, the area of that garage, the size of the basement area, etc\n",
    "\n",
    "\n",
    "Let's check the OverallQual variable in detail."
   ]
  },
  {
   "cell_type": "code",
   "execution_count": 20,
   "metadata": {},
   "outputs": [
    {
     "data": {
      "text/plain": [
       "array([ 7,  6,  8,  5,  9,  4, 10,  3,  1,  2], dtype=int64)"
      ]
     },
     "execution_count": 20,
     "metadata": {},
     "output_type": "execute_result"
    }
   ],
   "source": [
    "train['OverallQual'].unique()"
   ]
  },
  {
   "cell_type": "markdown",
   "metadata": {},
   "source": [
    "The overall quality is measured on a scale of 1 to 10. Hence, we can fairly treat it as an ordinal variable. An ordinal variable has an inherent order. For example, Rank of students in class, data collected on Likert scale, etc. Let's check the median sale price of houses with respect to OverallQual. You might be wondering, “Why median ?” We are using median because the target variable is skewed. A skewed variable has outliers and median is robust to outliers.\n",
    "\n",
    "We can create such aggregated tables using pandas pivot tables quite easily."
   ]
  },
  {
   "cell_type": "code",
   "execution_count": 24,
   "metadata": {},
   "outputs": [
    {
     "name": "stdout",
     "output_type": "stream",
     "text": [
      "             SalePrice\n",
      "OverallQual           \n",
      "1                50150\n",
      "2                60000\n",
      "3                86250\n",
      "4               108000\n",
      "5               133000\n",
      "6               160000\n",
      "7               200141\n",
      "8               269750\n",
      "9               345000\n",
      "10              432390\n"
     ]
    }
   ],
   "source": [
    "#let's check the mean price per quality and plot it.\n",
    "pivot = train.pivot_table(index='OverallQual', values='SalePrice', aggfunc=np.median)\n",
    "print(pivot)"
   ]
  },
  {
   "cell_type": "markdown",
   "metadata": {},
   "source": [
    "Let's plot this table and understand the median behavior using a bar graph."
   ]
  },
  {
   "cell_type": "code",
   "execution_count": 25,
   "metadata": {},
   "outputs": [
    {
     "data": {
      "text/plain": [
       "<matplotlib.axes._subplots.AxesSubplot at 0x20946121e10>"
      ]
     },
     "execution_count": 25,
     "metadata": {},
     "output_type": "execute_result"
    },
    {
     "data": {
      "image/png": "[encoded data removed]",
      "text/plain": [
       "<matplotlib.figure.Figure at 0x20946136518>"
      ]
     },
     "metadata": {},
     "output_type": "display_data"
    }
   ],
   "source": [
    "pivot.plot(kind='bar', color='red')"
   ]
  },
  {
   "cell_type": "markdown",
   "metadata": {},
   "source": [
    "This behavior is quite normal. \n",
    "\n",
    "As the overall quality of a house increases, its sale price also increases. Let's visualize the next correlated variable GrLivArea and understand their behavior."
   ]
  },
  {
   "cell_type": "code",
   "execution_count": 26,
   "metadata": {},
   "outputs": [
    {
     "data": {
      "text/plain": [
       "<seaborn.axisgrid.JointGrid at 0x2094645aa90>"
      ]
     },
     "execution_count": 26,
     "metadata": {},
     "output_type": "execute_result"
    },
    {
     "data": {
      "image/png": "[encoded data removed]",
      "text/plain": [
       "<matplotlib.figure.Figure at 0x2094645acc0>"
      ]
     },
     "metadata": {},
     "output_type": "display_data"
    }
   ],
   "source": [
    "#GrLivArea variable\n",
    "sns.jointplot(x=train['GrLivArea'], y=train['SalePrice'])"
   ]
  },
  {
   "cell_type": "markdown",
   "metadata": {},
   "source": [
    "As seen above, here also we see a direct correlation of living area with sale price. However, we can spot an outlier value GrLivArea > 5000.\n",
    "I've seen outliers play a significant role in spoiling a model's performance.\n",
    "\n",
    "Hence, we'll get rid of it. If you are enjoying this activity, you can visualize other correlated variables as well. \n",
    "\n",
    "Now, we'll move forward and explore categorical features. The simplest way to understand categorical variables is using .describe() command."
   ]
  },
  {
   "cell_type": "code",
   "execution_count": 27,
   "metadata": {},
   "outputs": [
    {
     "data": {
      "text/html": [
       "<div>\n",
       "<style>\n",
       "    .dataframe thead tr:only-child th {\n",
       "        text-align: right;\n",
       "    }\n",
       "\n",
       "    .dataframe thead th {\n",
       "        text-align: left;\n",
       "    }\n",
       "\n",
       "    .dataframe tbody tr th {\n",
       "        vertical-align: top;\n",
       "    }\n",
       "</style>\n",
       "<table border=\"1\" class=\"dataframe\">\n",
       "  <thead>\n",
       "    <tr style=\"text-align: right;\">\n",
       "      <th></th>\n",
       "      <th>MSZoning</th>\n",
       "      <th>Street</th>\n",
       "      <th>Alley</th>\n",
       "      <th>LotShape</th>\n",
       "      <th>LandContour</th>\n",
       "      <th>Utilities</th>\n",
       "      <th>LotConfig</th>\n",
       "      <th>LandSlope</th>\n",
       "      <th>Neighborhood</th>\n",
       "      <th>Condition1</th>\n",
       "      <th>...</th>\n",
       "      <th>GarageType</th>\n",
       "      <th>GarageFinish</th>\n",
       "      <th>GarageQual</th>\n",
       "      <th>GarageCond</th>\n",
       "      <th>PavedDrive</th>\n",
       "      <th>PoolQC</th>\n",
       "      <th>Fence</th>\n",
       "      <th>MiscFeature</th>\n",
       "      <th>SaleType</th>\n",
       "      <th>SaleCondition</th>\n",
       "    </tr>\n",
       "  </thead>\n",
       "  <tbody>\n",
       "    <tr>\n",
       "      <th>count</th>\n",
       "      <td>1460</td>\n",
       "      <td>1460</td>\n",
       "      <td>91</td>\n",
       "      <td>1460</td>\n",
       "      <td>1460</td>\n",
       "      <td>1460</td>\n",
       "      <td>1460</td>\n",
       "      <td>1460</td>\n",
       "      <td>1460</td>\n",
       "      <td>1460</td>\n",
       "      <td>...</td>\n",
       "      <td>1379</td>\n",
       "      <td>1379</td>\n",
       "      <td>1379</td>\n",
       "      <td>1379</td>\n",
       "      <td>1460</td>\n",
       "      <td>7</td>\n",
       "      <td>281</td>\n",
       "      <td>54</td>\n",
       "      <td>1460</td>\n",
       "      <td>1460</td>\n",
       "    </tr>\n",
       "    <tr>\n",
       "      <th>unique</th>\n",
       "      <td>5</td>\n",
       "      <td>2</td>\n",
       "      <td>2</td>\n",
       "      <td>4</td>\n",
       "      <td>4</td>\n",
       "      <td>2</td>\n",
       "      <td>5</td>\n",
       "      <td>3</td>\n",
       "      <td>25</td>\n",
       "      <td>9</td>\n",
       "      <td>...</td>\n",
       "      <td>6</td>\n",
       "      <td>3</td>\n",
       "      <td>5</td>\n",
       "      <td>5</td>\n",
       "      <td>3</td>\n",
       "      <td>3</td>\n",
       "      <td>4</td>\n",
       "      <td>4</td>\n",
       "      <td>9</td>\n",
       "      <td>6</td>\n",
       "    </tr>\n",
       "    <tr>\n",
       "      <th>top</th>\n",
       "      <td>RL</td>\n",
       "      <td>Pave</td>\n",
       "      <td>Grvl</td>\n",
       "      <td>Reg</td>\n",
       "      <td>Lvl</td>\n",
       "      <td>AllPub</td>\n",
       "      <td>Inside</td>\n",
       "      <td>Gtl</td>\n",
       "      <td>NAmes</td>\n",
       "      <td>Norm</td>\n",
       "      <td>...</td>\n",
       "      <td>Attchd</td>\n",
       "      <td>Unf</td>\n",
       "      <td>TA</td>\n",
       "      <td>TA</td>\n",
       "      <td>Y</td>\n",
       "      <td>Gd</td>\n",
       "      <td>MnPrv</td>\n",
       "      <td>Shed</td>\n",
       "      <td>WD</td>\n",
       "      <td>Normal</td>\n",
       "    </tr>\n",
       "    <tr>\n",
       "      <th>freq</th>\n",
       "      <td>1151</td>\n",
       "      <td>1454</td>\n",
       "      <td>50</td>\n",
       "      <td>925</td>\n",
       "      <td>1311</td>\n",
       "      <td>1459</td>\n",
       "      <td>1052</td>\n",
       "      <td>1382</td>\n",
       "      <td>225</td>\n",
       "      <td>1260</td>\n",
       "      <td>...</td>\n",
       "      <td>870</td>\n",
       "      <td>605</td>\n",
       "      <td>1311</td>\n",
       "      <td>1326</td>\n",
       "      <td>1340</td>\n",
       "      <td>3</td>\n",
       "      <td>157</td>\n",
       "      <td>49</td>\n",
       "      <td>1267</td>\n",
       "      <td>1198</td>\n",
       "    </tr>\n",
       "  </tbody>\n",
       "</table>\n",
       "<p>4 rows × 43 columns</p>\n",
       "</div>"
      ],
      "text/plain": [
       "       MSZoning Street Alley LotShape LandContour Utilities LotConfig  \\\n",
       "count      1460   1460    91     1460        1460      1460      1460   \n",
       "unique        5      2     2        4           4         2         5   \n",
       "top          RL   Pave  Grvl      Reg         Lvl    AllPub    Inside   \n",
       "freq       1151   1454    50      925        1311      1459      1052   \n",
       "\n",
       "       LandSlope Neighborhood Condition1      ...      GarageType  \\\n",
       "count       1460         1460       1460      ...            1379   \n",
       "unique         3           25          9      ...               6   \n",
       "top          Gtl        NAmes       Norm      ...          Attchd   \n",
       "freq        1382          225       1260      ...             870   \n",
       "\n",
       "       GarageFinish GarageQual GarageCond PavedDrive PoolQC  Fence  \\\n",
       "count          1379       1379       1379       1460      7    281   \n",
       "unique            3          5          5          3      3      4   \n",
       "top             Unf         TA         TA          Y     Gd  MnPrv   \n",
       "freq            605       1311       1326       1340      3    157   \n",
       "\n",
       "       MiscFeature SaleType SaleCondition  \n",
       "count           54     1460          1460  \n",
       "unique           4        9             6  \n",
       "top           Shed       WD        Normal  \n",
       "freq            49     1267          1198  \n",
       "\n",
       "[4 rows x 43 columns]"
      ]
     },
     "execution_count": 27,
     "metadata": {},
     "output_type": "execute_result"
    }
   ],
   "source": [
    "cat_data.describe()"
   ]
  },
  {
   "cell_type": "markdown",
   "metadata": {},
   "source": [
    "Let's check the median sale price of a house based on its SaleCondition. SaleCondition explains the condition of sale. \n",
    "Not much information is given about its categories."
   ]
  },
  {
   "cell_type": "code",
   "execution_count": 28,
   "metadata": {},
   "outputs": [
    {
     "data": {
      "text/html": [
       "<div>\n",
       "<style>\n",
       "    .dataframe thead tr:only-child th {\n",
       "        text-align: right;\n",
       "    }\n",
       "\n",
       "    .dataframe thead th {\n",
       "        text-align: left;\n",
       "    }\n",
       "\n",
       "    .dataframe tbody tr th {\n",
       "        vertical-align: top;\n",
       "    }\n",
       "</style>\n",
       "<table border=\"1\" class=\"dataframe\">\n",
       "  <thead>\n",
       "    <tr style=\"text-align: right;\">\n",
       "      <th></th>\n",
       "      <th>SalePrice</th>\n",
       "    </tr>\n",
       "    <tr>\n",
       "      <th>SaleCondition</th>\n",
       "      <th></th>\n",
       "    </tr>\n",
       "  </thead>\n",
       "  <tbody>\n",
       "    <tr>\n",
       "      <th>Abnorml</th>\n",
       "      <td>130000</td>\n",
       "    </tr>\n",
       "    <tr>\n",
       "      <th>AdjLand</th>\n",
       "      <td>104000</td>\n",
       "    </tr>\n",
       "    <tr>\n",
       "      <th>Alloca</th>\n",
       "      <td>148145</td>\n",
       "    </tr>\n",
       "    <tr>\n",
       "      <th>Family</th>\n",
       "      <td>140500</td>\n",
       "    </tr>\n",
       "    <tr>\n",
       "      <th>Normal</th>\n",
       "      <td>160000</td>\n",
       "    </tr>\n",
       "    <tr>\n",
       "      <th>Partial</th>\n",
       "      <td>244600</td>\n",
       "    </tr>\n",
       "  </tbody>\n",
       "</table>\n",
       "</div>"
      ],
      "text/plain": [
       "               SalePrice\n",
       "SaleCondition           \n",
       "Abnorml           130000\n",
       "AdjLand           104000\n",
       "Alloca            148145\n",
       "Family            140500\n",
       "Normal            160000\n",
       "Partial           244600"
      ]
     },
     "execution_count": 28,
     "metadata": {},
     "output_type": "execute_result"
    }
   ],
   "source": [
    "sp_pivot = train.pivot_table(index='SaleCondition', values='SalePrice', aggfunc=np.median)\n",
    "sp_pivot"
   ]
  },
  {
   "cell_type": "code",
   "execution_count": 29,
   "metadata": {},
   "outputs": [
    {
     "data": {
      "text/plain": [
       "<matplotlib.axes._subplots.AxesSubplot at 0x20946798518>"
      ]
     },
     "execution_count": 29,
     "metadata": {},
     "output_type": "execute_result"
    },
    {
     "data": {
      "image/png": "[encoded data removed]",
      "text/plain": [
       "<matplotlib.figure.Figure at 0x209461068d0>"
      ]
     },
     "metadata": {},
     "output_type": "display_data"
    }
   ],
   "source": [
    "sp_pivot.plot(kind='bar',color='red')"
   ]
  },
  {
   "cell_type": "markdown",
   "metadata": {},
   "source": [
    "### 5. Data Pre-Processing"
   ]
  },
  {
   "cell_type": "markdown",
   "metadata": {},
   "source": [
    "In this stage, we'll deal with outlier values, encode variables, impute missing values, and take every possible initiative which can remove inconsistencies from the data set. If you remember, we discovered that the variable GrLivArea has outlier values. Precisely, one point crossed the 4000 mark. Let's remove that:"
   ]
  },
  {
   "cell_type": "code",
   "execution_count": 33,
   "metadata": {},
   "outputs": [
    {
     "data": {
      "text/plain": [
       "(1456, 81)"
      ]
     },
     "execution_count": 33,
     "metadata": {},
     "output_type": "execute_result"
    }
   ],
   "source": [
    "#removing outliers\n",
    "train.drop(train[train['GrLivArea'] > 4000].index, inplace=True)\n",
    "train.shape #removed 4 rows`"
   ]
  },
  {
   "cell_type": "markdown",
   "metadata": {},
   "source": [
    "In row 666, in the test data, it was found that information in variables related to 'Garage' (GarageQual, GarageCond, GarageFinish, GarageYrBlt) is missing. Let's impute them using the mode of these respective variables."
   ]
  },
  {
   "cell_type": "code",
   "execution_count": 34,
   "metadata": {},
   "outputs": [],
   "source": [
    "#imputing using mode\n",
    "test.loc[666, 'GarageQual'] = \"TA\" #stats.mode(test['GarageQual']).mode\n",
    "test.loc[666, 'GarageCond'] = \"TA\" #stats.mode(test['GarageCond']).mode\n",
    "test.loc[666, 'GarageFinish'] = \"Unf\" #stats.mode(test['GarageFinish']).mode\n",
    "test.loc[666, 'GarageYrBlt'] = \"1980\" #np.nanmedian(test['GarageYrBlt'])` "
   ]
  },
  {
   "cell_type": "markdown",
   "metadata": {},
   "source": [
    "In row 1116, in test data, all garage variables are NA except GarageType. Let's mark it NA as well."
   ]
  },
  {
   "cell_type": "code",
   "execution_count": 35,
   "metadata": {},
   "outputs": [],
   "source": [
    "#mark as missing\n",
    "test.loc[1116, 'GarageType'] = np.nan"
   ]
  },
  {
   "cell_type": "markdown",
   "metadata": {},
   "source": [
    "Now, we'll encode all the categorical variables. This is necessary because most ML algorithms do not accept categorical values, instead they are expected to be converted to numerical. LabelEncoder function from sklearn is used to encode variables. Let's write a function to do this:"
   ]
  },
  {
   "cell_type": "code",
   "execution_count": 36,
   "metadata": {},
   "outputs": [],
   "source": [
    "#importing function\n",
    "from sklearn.preprocessing import LabelEncoder\n",
    "le = LabelEncoder()\n",
    "def factorize(data, var, fill_na = None):\n",
    "      if fill_na is not None:\n",
    "            data[var].fillna(fill_na, inplace=True)\n",
    "      le.fit(data[var])\n",
    "      data[var] = le.transform(data[var])\n",
    "      return data"
   ]
  },
  {
   "cell_type": "markdown",
   "metadata": {},
   "source": [
    "This function imputes the blank levels with mode values. The mode values are to be entered manually. Now, let's impute the missing values in LotFrontage variable using the median value of LotFrontage by Neighborhood. Such imputation strategies are built during data exploration. I suggest you spend some more time on data exploration. To do this, we should combine our train and test data so that we can modify both the data sets at once. Also, it'll save our time."
   ]
  },
  {
   "cell_type": "code",
   "execution_count": 37,
   "metadata": {},
   "outputs": [
    {
     "data": {
      "text/plain": [
       "(2915, 81)"
      ]
     },
     "execution_count": 37,
     "metadata": {},
     "output_type": "execute_result"
    }
   ],
   "source": [
    "#combine the data set\n",
    "alldata = train.append(test)\n",
    "alldata.shape\n",
    "(2915, 81)"
   ]
  },
  {
   "cell_type": "code",
   "execution_count": 38,
   "metadata": {},
   "outputs": [],
   "source": [
    "#impute lotfrontage by median of neighborhood\n",
    "lot_frontage_by_neighborhood = train['LotFrontage'].groupby(train['Neighborhood'])\n",
    "\n",
    "for key, group in lot_frontage_by_neighborhood:\n",
    "                idx = (alldata['Neighborhood'] == key) & (alldata['LotFrontage'].isnull())\n",
    "                alldata.loc[idx, 'LotFrontage'] = group.median()"
   ]
  },
  {
   "cell_type": "code",
   "execution_count": 39,
   "metadata": {},
   "outputs": [],
   "source": [
    "#imputing missing values\n",
    "alldata[\"MasVnrArea\"].fillna(0, inplace=True)\n",
    "alldata[\"BsmtFinSF1\"].fillna(0, inplace=True)\n",
    "alldata[\"BsmtFinSF2\"].fillna(0, inplace=True)\n",
    "alldata[\"BsmtUnfSF\"].fillna(0, inplace=True)\n",
    "alldata[\"TotalBsmtSF\"].fillna(0, inplace=True)\n",
    "alldata[\"GarageArea\"].fillna(0, inplace=True)\n",
    "alldata[\"BsmtFullBath\"].fillna(0, inplace=True)\n",
    "alldata[\"BsmtHalfBath\"].fillna(0, inplace=True)\n",
    "alldata[\"GarageCars\"].fillna(0, inplace=True)\n",
    "alldata[\"GarageYrBlt\"].fillna(0.0, inplace=True)\n",
    "alldata[\"PoolArea\"].fillna(0, inplace=True)"
   ]
  },
  {
   "cell_type": "code",
   "execution_count": 41,
   "metadata": {},
   "outputs": [],
   "source": [
    "qual_dict = {np.nan: 0, \"Po\": 1, \"Fa\": 2, \"TA\": 3, \"Gd\": 4, \"Ex\": 5}\n",
    "name = np.array(['ExterQual','PoolQC' ,'ExterCond','BsmtQual','BsmtCond','HeatingQC','KitchenQual','FireplaceQu', 'GarageQual','GarageCond'])\n",
    "\n",
    "for i in name:\n",
    "     alldata[i] = alldata[i].map(qual_dict).astype(int)\n",
    "\n",
    "alldata[\"BsmtExposure\"] = alldata[\"BsmtExposure\"].map({np.nan: 0, \"No\": 1, \"Mn\": 2, \"Av\": 3, \"Gd\": 4}).astype(int)\n",
    "\n",
    "bsmt_fin_dict = {np.nan: 0, \"Unf\": 1, \"LwQ\": 2, \"Rec\": 3, \"BLQ\": 4, \"ALQ\": 5, \"GLQ\": 6}\n",
    "alldata[\"BsmtFinType1\"] = alldata[\"BsmtFinType1\"].map(bsmt_fin_dict).astype(int)\n",
    "alldata[\"BsmtFinType2\"] = alldata[\"BsmtFinType2\"].map(bsmt_fin_dict).astype(int)\n",
    "alldata[\"Functional\"] = alldata[\"Functional\"].map({np.nan: 0, \"Sal\": 1, \"Sev\": 2, \"Maj2\": 3, \"Maj1\": 4, \"Mod\": 5, \"Min2\": 6, \"Min1\": 7, \"Typ\": 8}).astype(int)\n",
    "\n",
    "alldata[\"GarageFinish\"] = alldata[\"GarageFinish\"].map({np.nan: 0, \"Unf\": 1, \"RFn\": 2, \"Fin\": 3}).astype(int)\n",
    "alldata[\"Fence\"] = alldata[\"Fence\"].map({np.nan: 0, \"MnWw\": 1, \"GdWo\": 2, \"MnPrv\": 3, \"GdPrv\": 4}).astype(int)\n",
    "\n",
    "#encoding data\n",
    "alldata[\"CentralAir\"] = (alldata[\"CentralAir\"] == \"Y\") * 1.0\n",
    "varst = np.array(['MSSubClass','LotConfig','Neighborhood','Condition1','BldgType','HouseStyle','RoofStyle','Foundation','SaleCondition'])\n",
    "\n",
    "for x in varst:\n",
    "         factorize(alldata, x)\n",
    "\n",
    "#encode variables and impute missing values\n",
    "alldata = factorize(alldata, \"MSZoning\", \"RL\")\n",
    "alldata = factorize(alldata, \"Exterior1st\", \"Other\")\n",
    "alldata = factorize(alldata, \"Exterior2nd\", \"Other\")\n",
    "alldata = factorize(alldata, \"MasVnrType\", \"None\")\n",
    "alldata = factorize(alldata, \"SaleType\", \"Oth\")"
   ]
  },
  {
   "cell_type": "code",
   "execution_count": 44,
   "metadata": {},
   "outputs": [],
   "source": [
    "#creating new variable (1 or 0) based on irregular count levels\n",
    "#The level with highest count is kept as 1 and rest as 0\n",
    "alldata[\"IsRegularLotShape\"] = (alldata[\"LotShape\"] == \"Reg\") * 1\n",
    "alldata[\"IsLandLevel\"] = (alldata[\"LandContour\"] == \"Lvl\") * 1\n",
    "alldata[\"IsLandSlopeGentle\"] = (alldata[\"LandSlope\"] == \"Gtl\") * 1\n",
    "alldata[\"IsElectricalSBrkr\"] = (alldata[\"Electrical\"] == \"SBrkr\") * 1\n",
    "alldata[\"IsGarageDetached\"] = (alldata[\"GarageType\"] == \"Detchd\") * 1\n",
    "alldata[\"IsPavedDrive\"] = (alldata[\"PavedDrive\"] == \"Y\") * 1\n",
    "alldata[\"HasShed\"] = (alldata[\"MiscFeature\"] == \"Shed\") * 1\n",
    "alldata[\"Remodeled\"] = (alldata[\"YearRemodAdd\"] != alldata[\"YearBuilt\"]) * 1\n",
    "\n",
    "#Did the modeling happen during the sale year?\n",
    "alldata[\"RecentRemodel\"] = (alldata[\"YearRemodAdd\"] == alldata[\"YrSold\"]) * 1\n",
    "\n",
    "# Was this house sold in the year it was built?\n",
    "alldata[\"VeryNewHouse\"] = (alldata[\"YearBuilt\"] == alldata[\"YrSold\"]) * 1\n",
    "alldata[\"Has2ndFloor\"] = (alldata[\"2ndFlrSF\"] == 0) * 1\n",
    "alldata[\"HasMasVnr\"] = (alldata[\"MasVnrArea\"] == 0) * 1\n",
    "alldata[\"HasWoodDeck\"] = (alldata[\"WoodDeckSF\"] == 0) * 1\n",
    "alldata[\"HasOpenPorch\"] = (alldata[\"OpenPorchSF\"] == 0) * 1\n",
    "alldata[\"HasEnclosedPorch\"] = (alldata[\"EnclosedPorch\"] == 0) * 1\n",
    "alldata[\"Has3SsnPorch\"] = (alldata[\"3SsnPorch\"] == 0) * 1\n",
    "alldata[\"HasScreenPorch\"] = (alldata[\"ScreenPorch\"] == 0) * 1\n",
    "\n",
    "#setting levels with high count as 1 and the rest as 0\n",
    "#you can check for them using the value_counts function\n",
    "alldata[\"HighSeason\"] = alldata[\"MoSold\"].replace({1: 0, 2: 0, 3: 0, 4: 1, 5: 1, 6: 1, 7: 1, 8: 0, 9: 0, 10: 0, 11: 0, 12: 0})\n",
    "alldata[\"NewerDwelling\"] = alldata[\"MSSubClass\"].replace({20: 1, 30: 0, 40: 0, 45: 0,50: 0, 60: 1, 70: 0, 75: 0, 80: 0, 85: 0,90: 0, 120: 1, 150: 0, 160: 0, 180: 0, 190: 0})"
   ]
  },
  {
   "cell_type": "code",
   "execution_count": 45,
   "metadata": {},
   "outputs": [
    {
     "data": {
      "text/plain": [
       "(2915, 100)"
      ]
     },
     "execution_count": 45,
     "metadata": {},
     "output_type": "execute_result"
    }
   ],
   "source": [
    "alldata.shape\n",
    "(2915, 100)"
   ]
  },
  {
   "cell_type": "code",
   "execution_count": 46,
   "metadata": {},
   "outputs": [],
   "source": [
    "#create alldata2\n",
    "alldata2 = train.append(test)\n",
    "\n",
    "alldata[\"SaleCondition_PriceDown\"] = alldata2.SaleCondition.replace({'Abnorml': 1, 'Alloca': 1, 'AdjLand': 1, 'Family': 1, 'Normal': 0, 'Partial': 0})\n",
    "\n",
    "# house completed before sale or not\n",
    "alldata[\"BoughtOffPlan\"] = alldata2.SaleCondition.replace({\"Abnorml\" : 0, \"Alloca\" : 0, \"AdjLand\" : 0, \"Family\" : 0, \"Normal\" : 0, \"Partial\" : 1})\n",
    "alldata[\"BadHeating\"] = alldata2.HeatingQC.replace({'Ex': 0, 'Gd': 0, 'TA': 0, 'Fa': 1, 'Po': 1})"
   ]
  },
  {
   "cell_type": "code",
   "execution_count": 48,
   "metadata": {},
   "outputs": [
    {
     "data": {
      "text/plain": [
       "<matplotlib.axes._subplots.AxesSubplot at 0x20946db9da0>"
      ]
     },
     "execution_count": 48,
     "metadata": {},
     "output_type": "execute_result"
    },
    {
     "data": {
      "image/png": "[encoded data removed]",
      "text/plain": [
       "<matplotlib.figure.Figure at 0x20946dbda58>"
      ]
     },
     "metadata": {},
     "output_type": "display_data"
    }
   ],
   "source": [
    "#calculating total area using all area columns\n",
    "area_cols = ['LotFrontage', 'LotArea', 'MasVnrArea', 'BsmtFinSF1', 'BsmtFinSF2', 'BsmtUnfSF','TotalBsmtSF', '1stFlrSF', '2ndFlrSF', 'GrLivArea', 'GarageArea', 'WoodDeckSF','OpenPorchSF', 'EnclosedPorch', '3SsnPorch', 'ScreenPorch', 'LowQualFinSF', 'PoolArea' ]\n",
    "\n",
    "alldata[\"TotalArea\"] = alldata[area_cols].sum(axis=1)\n",
    "alldata[\"TotalArea1st2nd\"] = alldata[\"1stFlrSF\"] + alldata[\"2ndFlrSF\"]\n",
    "alldata[\"Age\"] = 2010 - alldata[\"YearBuilt\"]\n",
    "alldata[\"TimeSinceSold\"] = 2010 - alldata[\"YrSold\"]\n",
    "alldata[\"SeasonSold\"] = alldata[\"MoSold\"].map({12:0, 1:0, 2:0, 3:1, 4:1, 5:1, 6:2, 7:2, 8:2, 9:3, 10:3, 11:3}).astype(int)\n",
    "alldata[\"YearsSinceRemodel\"] = alldata[\"YrSold\"] - alldata[\"YearRemodAdd\"]\n",
    "\n",
    "# Simplifications of existing features into bad/average/good based on counts\n",
    "alldata[\"SimplOverallQual\"] = alldata.OverallQual.replace({1 : 1, 2 : 1, 3 : 1, 4 : 2, 5 : 2, 6 : 2, 7 : 3, 8 : 3, 9 : 3, 10 : 3})\n",
    "alldata[\"SimplOverallCond\"] = alldata.OverallCond.replace({1 : 1, 2 : 1, 3 : 1, 4 : 2, 5 : 2, 6 : 2, 7 : 3, 8 : 3, 9 : 3, 10 : 3})\n",
    "alldata[\"SimplPoolQC\"] = alldata.PoolQC.replace({1 : 1, 2 : 1, 3 : 2, 4 : 2})\n",
    "alldata[\"SimplGarageCond\"] = alldata.GarageCond.replace({1 : 1, 2 : 1, 3 : 1, 4 : 2, 5 : 2})\n",
    "alldata[\"SimplGarageQual\"] = alldata.GarageQual.replace({1 : 1, 2 : 1, 3 : 1, 4 : 2, 5 : 2})\n",
    "alldata[\"SimplFireplaceQu\"] = alldata.FireplaceQu.replace({1 : 1, 2 : 1, 3 : 1, 4 : 2, 5 : 2})\n",
    "alldata[\"SimplFireplaceQu\"] = alldata.FireplaceQu.replace({1 : 1, 2 : 1, 3 : 1, 4 : 2, 5 : 2})\n",
    "alldata[\"SimplFunctional\"] = alldata.Functional.replace({1 : 1, 2 : 1, 3 : 2, 4 : 2, 5 : 3, 6 : 3, 7 : 3, 8 : 4})\n",
    "alldata[\"SimplKitchenQual\"] = alldata.KitchenQual.replace({1 : 1, 2 : 1, 3 : 1, 4 : 2, 5 : 2})\n",
    "alldata[\"SimplHeatingQC\"] = alldata.HeatingQC.replace({1 : 1, 2 : 1, 3 : 1, 4 : 2, 5 : 2})\n",
    "alldata[\"SimplBsmtFinType1\"] = alldata.BsmtFinType1.replace({1 : 1, 2 : 1, 3 : 1, 4 : 2, 5 : 2, 6 : 2})\n",
    "alldata[\"SimplBsmtFinType2\"] = alldata.BsmtFinType2.replace({1 : 1, 2 : 1, 3 : 1, 4 : 2, 5 : 2, 6 : 2})\n",
    "alldata[\"SimplBsmtCond\"] = alldata.BsmtCond.replace({1 : 1, 2 : 1, 3 : 1, 4 : 2, 5 : 2})\n",
    "alldata[\"SimplBsmtQual\"] = alldata.BsmtQual.replace({1 : 1, 2 : 1, 3 : 1, 4 : 2, 5 : 2})\n",
    "alldata[\"SimplExterCond\"] = alldata.ExterCond.replace({1 : 1, 2 : 1, 3 : 1, 4 : 2, 5 : 2})\n",
    "alldata[\"SimplExterQual\"] = alldata.ExterQual.replace({1 : 1, 2 : 1, 3 : 1, 4 : 2, 5 : 2})\n",
    "\n",
    "#grouping neighborhood variable based on this plot\n",
    "train['SalePrice'].groupby(train['Neighborhood']).median().sort_values().plot(kind='bar')"
   ]
  },
  {
   "cell_type": "code",
   "execution_count": 50,
   "metadata": {},
   "outputs": [
    {
     "data": {
      "text/plain": [
       "(2915, 124)"
      ]
     },
     "execution_count": 50,
     "metadata": {},
     "output_type": "execute_result"
    }
   ],
   "source": [
    "neighborhood_map = {\"MeadowV\" : 0, \"IDOTRR\" : 1, \"BrDale\" : 1, \"OldTown\" : 1, \"Edwards\" : 1, \"BrkSide\" : 1, \"Sawyer\" : 1, \"Blueste\" : 1, \"SWISU\" : 2, \"NAmes\" : 2, \"NPkVill\" : 2, \"Mitchel\" : 2, \"SawyerW\" : 2, \"Gilbert\" : 2, \"NWAmes\" : 2, \"Blmngtn\" : 2, \"CollgCr\" : 2, \"ClearCr\" : 3, \"Crawfor\" : 3, \"Veenker\" : 3, \"Somerst\" : 3, \"Timber\" : 3, \"StoneBr\" : 4, \"NoRidge\" : 4, \"NridgHt\" : 4}\n",
    "\n",
    "alldata['NeighborhoodBin'] = alldata2['Neighborhood'].map(neighborhood_map)\n",
    "alldata.loc[alldata2.Neighborhood == 'NridgHt', \"Neighborhood_Good\"] = 1\n",
    "alldata.loc[alldata2.Neighborhood == 'Crawfor', \"Neighborhood_Good\"] = 1\n",
    "alldata.loc[alldata2.Neighborhood == 'StoneBr', \"Neighborhood_Good\"] = 1\n",
    "alldata.loc[alldata2.Neighborhood == 'Somerst', \"Neighborhood_Good\"] = 1\n",
    "alldata.loc[alldata2.Neighborhood == 'NoRidge', \"Neighborhood_Good\"] = 1\n",
    "alldata[\"Neighborhood_Good\"].fillna(0, inplace=True)\n",
    "alldata[\"SaleCondition_PriceDown\"] = alldata2.SaleCondition.replace({'Abnorml': 1, 'Alloca': 1, 'AdjLand': 1, 'Family': 1, 'Normal': 0, 'Partial': 0})\n",
    "\n",
    "# House completed before sale or not\n",
    "alldata[\"BoughtOffPlan\"] = alldata2.SaleCondition.replace({\"Abnorml\" : 0, \"Alloca\" : 0, \"AdjLand\" : 0, \"Family\" : 0, \"Normal\" : 0, \"Partial\" : 1})\n",
    "alldata[\"BadHeating\"] = alldata2.HeatingQC.replace({'Ex': 0, 'Gd': 0, 'TA': 0, 'Fa': 1, 'Po': 1})\n",
    "alldata.shape\n",
    "(2915, 124)"
   ]
  },
  {
   "cell_type": "code",
   "execution_count": 53,
   "metadata": {},
   "outputs": [
    {
     "name": "stdout",
     "output_type": "stream",
     "text": [
      "Train (1456, 126)\n",
      "----------------\n",
      "Test (1459, 126)\n"
     ]
    }
   ],
   "source": [
    "#create new data\n",
    "train_new = alldata[alldata['SalePrice'].notnull()]\n",
    "test_new = alldata[alldata['SalePrice'].isnull()]\n",
    "\n",
    "print(\"Train\", train_new.shape)\n",
    "print('----------------')\n",
    "print(\"Test\", test_new.shape)"
   ]
  },
  {
   "cell_type": "code",
   "execution_count": 54,
   "metadata": {},
   "outputs": [
    {
     "name": "stderr",
     "output_type": "stream",
     "text": [
      "C:\\ProgramData\\Anaconda3\\lib\\site-packages\\pandas\\core\\frame.py:2352: SettingWithCopyWarning: \n",
      "A value is trying to be set on a copy of a slice from a DataFrame.\n",
      "Try using .loc[row_indexer,col_indexer] = value instead\n",
      "\n",
      "See the caveats in the documentation: http://pandas.pydata.org/pandas-docs/stable/indexing.html#indexing-view-versus-copy\n",
      "  self[k1] = value[k2]\n"
     ]
    }
   ],
   "source": [
    "#get numeric features\n",
    "numeric_features = [f for f in train_new.columns if train_new[f].dtype != object]\n",
    "\n",
    "#transform the numeric features using log(x + 1)\n",
    "from scipy.stats import skew\n",
    "skewed = train_new[numeric_features].apply(lambda x: skew(x.dropna().astype(float)))\n",
    "skewed = skewed[skewed > 0.75]\n",
    "skewed = skewed.index\n",
    "train_new[skewed] = np.log1p(train_new[skewed])\n",
    "test_new[skewed] = np.log1p(test_new[skewed])\n",
    "del test_new['SalePrice']"
   ]
  },
  {
   "cell_type": "code",
   "execution_count": 55,
   "metadata": {},
   "outputs": [
    {
     "name": "stderr",
     "output_type": "stream",
     "text": [
      "C:\\ProgramData\\Anaconda3\\lib\\site-packages\\ipykernel_launcher.py:7: SettingWithCopyWarning: \n",
      "A value is trying to be set on a copy of a slice from a DataFrame.\n",
      "Try using .loc[row_indexer,col_indexer] = value instead\n",
      "\n",
      "See the caveats in the documentation: http://pandas.pydata.org/pandas-docs/stable/indexing.html#indexing-view-versus-copy\n",
      "  import sys\n",
      "C:\\ProgramData\\Anaconda3\\lib\\site-packages\\ipykernel_launcher.py:13: SettingWithCopyWarning: \n",
      "A value is trying to be set on a copy of a slice from a DataFrame.\n",
      "Try using .loc[row_indexer,col_indexer] = value instead\n",
      "\n",
      "See the caveats in the documentation: http://pandas.pydata.org/pandas-docs/stable/indexing.html#indexing-view-versus-copy\n",
      "  del sys.path[0]\n"
     ]
    }
   ],
   "source": [
    "from sklearn.preprocessing import StandardScaler\n",
    "scaler = StandardScaler()\n",
    "scaler.fit(train_new[numeric_features])\n",
    "scaled = scaler.transform(train_new[numeric_features])\n",
    "\n",
    "for i, col in enumerate(numeric_features):\n",
    "       train_new[col] = scaled[:,i]\n",
    "\n",
    "numeric_features.remove('SalePrice')\n",
    "scaled = scaler.fit_transform(test_new[numeric_features])\n",
    "\n",
    "for i, col in enumerate(numeric_features):\n",
    "      test_new[col] = scaled[:,i]"
   ]
  },
  {
   "cell_type": "code",
   "execution_count": 56,
   "metadata": {},
   "outputs": [],
   "source": [
    "def onehot(onehot_df, df, column_name, fill_na):\n",
    "       onehot_df[column_name] = df[column_name]\n",
    "       if fill_na is not None:\n",
    "            onehot_df[column_name].fillna(fill_na, inplace=True)\n",
    "\n",
    "       dummies = pd.get_dummies(onehot_df[column_name], prefix=\"_\"+column_name)\n",
    "       onehot_df = onehot_df.join(dummies)\n",
    "       onehot_df = onehot_df.drop([column_name], axis=1)\n",
    "       return onehot_df\n",
    "\n",
    "def munge_onehot(df):\n",
    "       onehot_df = pd.DataFrame(index = df.index)\n",
    "\n",
    "       onehot_df = onehot(onehot_df, df, \"MSSubClass\", None)\n",
    "       onehot_df = onehot(onehot_df, df, \"MSZoning\", \"RL\")\n",
    "       onehot_df = onehot(onehot_df, df, \"LotConfig\", None)\n",
    "       onehot_df = onehot(onehot_df, df, \"Neighborhood\", None)\n",
    "       onehot_df = onehot(onehot_df, df, \"Condition1\", None)\n",
    "       onehot_df = onehot(onehot_df, df, \"BldgType\", None)\n",
    "       onehot_df = onehot(onehot_df, df, \"HouseStyle\", None)\n",
    "       onehot_df = onehot(onehot_df, df, \"RoofStyle\", None)\n",
    "       onehot_df = onehot(onehot_df, df, \"Exterior1st\", \"VinylSd\")\n",
    "       onehot_df = onehot(onehot_df, df, \"Exterior2nd\", \"VinylSd\")\n",
    "       onehot_df = onehot(onehot_df, df, \"Foundation\", None)\n",
    "       onehot_df = onehot(onehot_df, df, \"SaleType\", \"WD\")\n",
    "       onehot_df = onehot(onehot_df, df, \"SaleCondition\", \"Normal\")\n",
    "\n",
    "       #Fill in missing MasVnrType for rows that do have a MasVnrArea.\n",
    "       temp_df = df[[\"MasVnrType\", \"MasVnrArea\"]].copy()\n",
    "       idx = (df[\"MasVnrArea\"] != 0) & ((df[\"MasVnrType\"] == \"None\") | (df[\"MasVnrType\"].isnull()))\n",
    "       temp_df.loc[idx, \"MasVnrType\"] = \"BrkFace\"\n",
    "       onehot_df = onehot(onehot_df, temp_df, \"MasVnrType\", \"None\")\n",
    "\n",
    "       onehot_df = onehot(onehot_df, df, \"LotShape\", None)\n",
    "       onehot_df = onehot(onehot_df, df, \"LandContour\", None)\n",
    "       onehot_df = onehot(onehot_df, df, \"LandSlope\", None)\n",
    "       onehot_df = onehot(onehot_df, df, \"Electrical\", \"SBrkr\")\n",
    "       onehot_df = onehot(onehot_df, df, \"GarageType\", \"None\")\n",
    "       onehot_df = onehot(onehot_df, df, \"PavedDrive\", None)\n",
    "       onehot_df = onehot(onehot_df, df, \"MiscFeature\", \"None\")\n",
    "       onehot_df = onehot(onehot_df, df, \"Street\", None)\n",
    "       onehot_df = onehot(onehot_df, df, \"Alley\", \"None\")\n",
    "       onehot_df = onehot(onehot_df, df, \"Condition2\", None)\n",
    "       onehot_df = onehot(onehot_df, df, \"RoofMatl\", None)\n",
    "       onehot_df = onehot(onehot_df, df, \"Heating\", None)\n",
    "\n",
    "       # we'll have these as numerical variables too\n",
    "       onehot_df = onehot(onehot_df, df, \"ExterQual\", \"None\")\n",
    "       onehot_df = onehot(onehot_df, df, \"ExterCond\", \"None\")\n",
    "       onehot_df = onehot(onehot_df, df, \"BsmtQual\", \"None\")\n",
    "       onehot_df = onehot(onehot_df, df, \"BsmtCond\", \"None\")\n",
    "       onehot_df = onehot(onehot_df, df, \"HeatingQC\", \"None\")\n",
    "       onehot_df = onehot(onehot_df, df, \"KitchenQual\", \"TA\")\n",
    "       onehot_df = onehot(onehot_df, df, \"FireplaceQu\", \"None\")\n",
    "       onehot_df = onehot(onehot_df, df, \"GarageQual\", \"None\")\n",
    "       onehot_df = onehot(onehot_df, df, \"GarageCond\", \"None\")\n",
    "       onehot_df = onehot(onehot_df, df, \"PoolQC\", \"None\")\n",
    "       onehot_df = onehot(onehot_df, df, \"BsmtExposure\", \"None\")\n",
    "       onehot_df = onehot(onehot_df, df, \"BsmtFinType1\", \"None\")\n",
    "       onehot_df = onehot(onehot_df, df, \"BsmtFinType2\", \"None\")\n",
    "       onehot_df = onehot(onehot_df, df, \"Functional\", \"Typ\")\n",
    "       onehot_df = onehot(onehot_df, df, \"GarageFinish\", \"None\")\n",
    "       onehot_df = onehot(onehot_df, df, \"Fence\", \"None\")\n",
    "       onehot_df = onehot(onehot_df, df, \"MoSold\", None)\n",
    "\n",
    "       # Divide  the years between 1871 and 2010 into slices of 20 years\n",
    "       year_map = pd.concat(pd.Series(\"YearBin\" + str(i+1), index=range(1871+i*20,1891+i*20))  for i in range(0, 7))\n",
    "       yearbin_df = pd.DataFrame(index = df.index)\n",
    "       yearbin_df[\"GarageYrBltBin\"] = df.GarageYrBlt.map(year_map)\n",
    "       yearbin_df[\"GarageYrBltBin\"].fillna(\"NoGarage\", inplace=True)\n",
    "       yearbin_df[\"YearBuiltBin\"] = df.YearBuilt.map(year_map)\n",
    "       yearbin_df[\"YearRemodAddBin\"] = df.YearRemodAdd.map(year_map)\n",
    "\n",
    "       onehot_df = onehot(onehot_df, yearbin_df, \"GarageYrBltBin\", None)\n",
    "       onehot_df = onehot(onehot_df, yearbin_df, \"YearBuiltBin\", None)\n",
    "       onehot_df = onehot(onehot_df, yearbin_df, \"YearRemodAddBin\", None)\n",
    "       return onehot_df\n",
    "\n",
    "#create one-hot features\n",
    "onehot_df = munge_onehot(train)\n",
    "\n",
    "neighborhood_train = pd.DataFrame(index=train_new.shape)\n",
    "neighborhood_train['NeighborhoodBin'] = train_new['NeighborhoodBin']\n",
    "neighborhood_test = pd.DataFrame(index=test_new.shape)\n",
    "neighborhood_test['NeighborhoodBin'] = test_new['NeighborhoodBin']\n",
    "\n",
    "onehot_df = onehot(onehot_df, neighborhood_train, 'NeighborhoodBin', None)"
   ]
  },
  {
   "cell_type": "code",
   "execution_count": 57,
   "metadata": {},
   "outputs": [
    {
     "data": {
      "text/plain": [
       "(1456, 433)"
      ]
     },
     "execution_count": 57,
     "metadata": {},
     "output_type": "execute_result"
    }
   ],
   "source": [
    "train_new = train_new.join(onehot_df) \n",
    "train_new.shape"
   ]
  },
  {
   "cell_type": "code",
   "execution_count": 58,
   "metadata": {},
   "outputs": [
    {
     "data": {
      "text/plain": [
       "(1459, 417)"
      ]
     },
     "execution_count": 58,
     "metadata": {},
     "output_type": "execute_result"
    }
   ],
   "source": [
    "#adding one hot features to test\n",
    "onehot_df_te = munge_onehot(test)\n",
    "onehot_df_te = onehot(onehot_df_te, neighborhood_test, \"NeighborhoodBin\", None)\n",
    "test_new = test_new.join(onehot_df_te)\n",
    "test_new.shape"
   ]
  },
  {
   "cell_type": "code",
   "execution_count": 59,
   "metadata": {},
   "outputs": [
    {
     "data": {
      "text/plain": [
       "(1456, 417)"
      ]
     },
     "execution_count": 59,
     "metadata": {},
     "output_type": "execute_result"
    }
   ],
   "source": [
    "#dropping some columns from the train data as they are not found in test\n",
    "drop_cols = [\"_Exterior1st_ImStucc\", \"_Exterior1st_Stone\",\"_Exterior2nd_Other\",\"_HouseStyle_2.5Fin\",\"_RoofMatl_Membran\", \"_RoofMatl_Metal\", \"_RoofMatl_Roll\", \"_Condition2_RRAe\", \"_Condition2_RRAn\", \"_Condition2_RRNn\", \"_Heating_Floor\", \"_Heating_OthW\", \"_Electrical_Mix\", \"_MiscFeature_TenC\", \"_GarageQual_Ex\",  \"_PoolQC_Fa\"]\n",
    "train_new.drop(drop_cols, axis=1, inplace=True)\n",
    "train_new.shape"
   ]
  },
  {
   "cell_type": "code",
   "execution_count": 60,
   "metadata": {},
   "outputs": [],
   "source": [
    "#removing one column missing from train data\n",
    "test_new.drop([\"_MSSubClass_150\"], axis=1, inplace=True)\n",
    "\n",
    "# Drop these columns\n",
    "drop_cols = [\"_Condition2_PosN\", # only two are not zero\n",
    "         \"_MSZoning_C (all)\",\n",
    "         \"_MSSubClass_160\"]\n",
    "\n",
    "train_new.drop(drop_cols, axis=1, inplace=True)\n",
    "test_new.drop(drop_cols, axis=1, inplace=True)"
   ]
  },
  {
   "cell_type": "code",
   "execution_count": 62,
   "metadata": {},
   "outputs": [
    {
     "name": "stdout",
     "output_type": "stream",
     "text": [
      "Training set size: (1456, 414)\n",
      "Test set size: (1459, 413)\n"
     ]
    }
   ],
   "source": [
    "#create a label set\n",
    "label_df = pd.DataFrame(index = train_new.index, columns = ['SalePrice'])\n",
    "label_df['SalePrice'] = np.log(train['SalePrice'])\n",
    "print(\"Training set size:\", train_new.shape)\n",
    "print(\"Test set size:\", test_new.shape)\n"
   ]
  },
  {
   "cell_type": "code",
   "execution_count": 65,
   "metadata": {},
   "outputs": [],
   "source": [
    "from keras.models import Sequential\n",
    "from keras.layers import Dense\n",
    "from keras.wrappers.scikit_learn import KerasRegressor\n",
    "from sklearn.preprocessing import StandardScaler\n",
    "\n",
    "np.random.seed(10)"
   ]
  },
  {
   "cell_type": "code",
   "execution_count": 66,
   "metadata": {},
   "outputs": [],
   "source": [
    "#create Model\n",
    "#define base model\n",
    "def base_model():\n",
    "     model = Sequential()\n",
    "     model.add(Dense(20, input_dim=398, init='normal', activation='relu'))\n",
    "     model.add(Dense(10, init='normal', activation='relu'))\n",
    "     model.add(Dense(1, init='normal'))\n",
    "     model.compile(loss='mean_squared_error', optimizer = 'adam')\n",
    "     return model"
   ]
  },
  {
   "cell_type": "code",
   "execution_count": 72,
   "metadata": {},
   "outputs": [
    {
     "ename": "ValueError",
     "evalue": "could not convert string to float: 'AllPub'",
     "output_type": "error",
     "traceback": [
      "\u001b[1;31m---------------------------------------------------------------------------\u001b[0m",
      "\u001b[1;31mValueError\u001b[0m                                Traceback (most recent call last)",
      "\u001b[1;32m<ipython-input-72-bfe83b05c79c>\u001b[0m in \u001b[0;36m<module>\u001b[1;34m()\u001b[0m\n\u001b[0;32m      3\u001b[0m \u001b[1;33m\u001b[0m\u001b[0m\n\u001b[0;32m      4\u001b[0m \u001b[0mscale\u001b[0m \u001b[1;33m=\u001b[0m \u001b[0mStandardScaler\u001b[0m\u001b[1;33m(\u001b[0m\u001b[1;33m)\u001b[0m\u001b[1;33m\u001b[0m\u001b[0m\n\u001b[1;32m----> 5\u001b[1;33m \u001b[0mX_train\u001b[0m \u001b[1;33m=\u001b[0m \u001b[0mscale\u001b[0m\u001b[1;33m.\u001b[0m\u001b[0mfit_transform\u001b[0m\u001b[1;33m(\u001b[0m\u001b[0mtrain_new\u001b[0m\u001b[1;33m)\u001b[0m\u001b[1;33m\u001b[0m\u001b[0m\n\u001b[0m\u001b[0;32m      6\u001b[0m \u001b[0mX_test\u001b[0m \u001b[1;33m=\u001b[0m \u001b[0mscale\u001b[0m\u001b[1;33m.\u001b[0m\u001b[0mfit_transform\u001b[0m\u001b[1;33m(\u001b[0m\u001b[0mtest_new\u001b[0m\u001b[1;33m)\u001b[0m\u001b[1;33m\u001b[0m\u001b[0m\n\u001b[0;32m      7\u001b[0m \u001b[1;33m\u001b[0m\u001b[0m\n",
      "\u001b[1;32mC:\\ProgramData\\Anaconda3\\lib\\site-packages\\sklearn\\base.py\u001b[0m in \u001b[0;36mfit_transform\u001b[1;34m(self, X, y, **fit_params)\u001b[0m\n\u001b[0;32m    516\u001b[0m         \u001b[1;32mif\u001b[0m \u001b[0my\u001b[0m \u001b[1;32mis\u001b[0m \u001b[1;32mNone\u001b[0m\u001b[1;33m:\u001b[0m\u001b[1;33m\u001b[0m\u001b[0m\n\u001b[0;32m    517\u001b[0m             \u001b[1;31m# fit method of arity 1 (unsupervised transformation)\u001b[0m\u001b[1;33m\u001b[0m\u001b[1;33m\u001b[0m\u001b[0m\n\u001b[1;32m--> 518\u001b[1;33m             \u001b[1;32mreturn\u001b[0m \u001b[0mself\u001b[0m\u001b[1;33m.\u001b[0m\u001b[0mfit\u001b[0m\u001b[1;33m(\u001b[0m\u001b[0mX\u001b[0m\u001b[1;33m,\u001b[0m \u001b[1;33m**\u001b[0m\u001b[0mfit_params\u001b[0m\u001b[1;33m)\u001b[0m\u001b[1;33m.\u001b[0m\u001b[0mtransform\u001b[0m\u001b[1;33m(\u001b[0m\u001b[0mX\u001b[0m\u001b[1;33m)\u001b[0m\u001b[1;33m\u001b[0m\u001b[0m\n\u001b[0m\u001b[0;32m    519\u001b[0m         \u001b[1;32melse\u001b[0m\u001b[1;33m:\u001b[0m\u001b[1;33m\u001b[0m\u001b[0m\n\u001b[0;32m    520\u001b[0m             \u001b[1;31m# fit method of arity 2 (supervised transformation)\u001b[0m\u001b[1;33m\u001b[0m\u001b[1;33m\u001b[0m\u001b[0m\n",
      "\u001b[1;32mC:\\ProgramData\\Anaconda3\\lib\\site-packages\\sklearn\\preprocessing\\data.py\u001b[0m in \u001b[0;36mfit\u001b[1;34m(self, X, y)\u001b[0m\n\u001b[0;32m    588\u001b[0m         \u001b[1;31m# Reset internal state before fitting\u001b[0m\u001b[1;33m\u001b[0m\u001b[1;33m\u001b[0m\u001b[0m\n\u001b[0;32m    589\u001b[0m         \u001b[0mself\u001b[0m\u001b[1;33m.\u001b[0m\u001b[0m_reset\u001b[0m\u001b[1;33m(\u001b[0m\u001b[1;33m)\u001b[0m\u001b[1;33m\u001b[0m\u001b[0m\n\u001b[1;32m--> 590\u001b[1;33m         \u001b[1;32mreturn\u001b[0m \u001b[0mself\u001b[0m\u001b[1;33m.\u001b[0m\u001b[0mpartial_fit\u001b[0m\u001b[1;33m(\u001b[0m\u001b[0mX\u001b[0m\u001b[1;33m,\u001b[0m \u001b[0my\u001b[0m\u001b[1;33m)\u001b[0m\u001b[1;33m\u001b[0m\u001b[0m\n\u001b[0m\u001b[0;32m    591\u001b[0m \u001b[1;33m\u001b[0m\u001b[0m\n\u001b[0;32m    592\u001b[0m     \u001b[1;32mdef\u001b[0m \u001b[0mpartial_fit\u001b[0m\u001b[1;33m(\u001b[0m\u001b[0mself\u001b[0m\u001b[1;33m,\u001b[0m \u001b[0mX\u001b[0m\u001b[1;33m,\u001b[0m \u001b[0my\u001b[0m\u001b[1;33m=\u001b[0m\u001b[1;32mNone\u001b[0m\u001b[1;33m)\u001b[0m\u001b[1;33m:\u001b[0m\u001b[1;33m\u001b[0m\u001b[0m\n",
      "\u001b[1;32mC:\\ProgramData\\Anaconda3\\lib\\site-packages\\sklearn\\preprocessing\\data.py\u001b[0m in \u001b[0;36mpartial_fit\u001b[1;34m(self, X, y)\u001b[0m\n\u001b[0;32m    610\u001b[0m         \"\"\"\n\u001b[0;32m    611\u001b[0m         X = check_array(X, accept_sparse=('csr', 'csc'), copy=self.copy,\n\u001b[1;32m--> 612\u001b[1;33m                         warn_on_dtype=True, estimator=self, dtype=FLOAT_DTYPES)\n\u001b[0m\u001b[0;32m    613\u001b[0m \u001b[1;33m\u001b[0m\u001b[0m\n\u001b[0;32m    614\u001b[0m         \u001b[1;31m# Even in the case of `with_mean=False`, we update the mean anyway\u001b[0m\u001b[1;33m\u001b[0m\u001b[1;33m\u001b[0m\u001b[0m\n",
      "\u001b[1;32mC:\\ProgramData\\Anaconda3\\lib\\site-packages\\sklearn\\utils\\validation.py\u001b[0m in \u001b[0;36mcheck_array\u001b[1;34m(array, accept_sparse, dtype, order, copy, force_all_finite, ensure_2d, allow_nd, ensure_min_samples, ensure_min_features, warn_on_dtype, estimator)\u001b[0m\n\u001b[0;32m    400\u001b[0m                                       force_all_finite)\n\u001b[0;32m    401\u001b[0m     \u001b[1;32melse\u001b[0m\u001b[1;33m:\u001b[0m\u001b[1;33m\u001b[0m\u001b[0m\n\u001b[1;32m--> 402\u001b[1;33m         \u001b[0marray\u001b[0m \u001b[1;33m=\u001b[0m \u001b[0mnp\u001b[0m\u001b[1;33m.\u001b[0m\u001b[0marray\u001b[0m\u001b[1;33m(\u001b[0m\u001b[0marray\u001b[0m\u001b[1;33m,\u001b[0m \u001b[0mdtype\u001b[0m\u001b[1;33m=\u001b[0m\u001b[0mdtype\u001b[0m\u001b[1;33m,\u001b[0m \u001b[0morder\u001b[0m\u001b[1;33m=\u001b[0m\u001b[0morder\u001b[0m\u001b[1;33m,\u001b[0m \u001b[0mcopy\u001b[0m\u001b[1;33m=\u001b[0m\u001b[0mcopy\u001b[0m\u001b[1;33m)\u001b[0m\u001b[1;33m\u001b[0m\u001b[0m\n\u001b[0m\u001b[0;32m    403\u001b[0m \u001b[1;33m\u001b[0m\u001b[0m\n\u001b[0;32m    404\u001b[0m         \u001b[1;32mif\u001b[0m \u001b[0mensure_2d\u001b[0m\u001b[1;33m:\u001b[0m\u001b[1;33m\u001b[0m\u001b[0m\n",
      "\u001b[1;31mValueError\u001b[0m: could not convert string to float: 'AllPub'"
     ]
    }
   ],
   "source": [
    "seed = 7\n",
    "np.random.seed(seed)\n",
    "\n",
    "scale = StandardScaler()\n",
    "X_train = scale.fit_transform(train_new)\n",
    "X_test = scale.fit_transform(test_new)\n",
    "\n",
    "keras_label = label_df.as_matrix()\n",
    "clf = KerasRegressor(build_fn=base_model, nb_epoch=1000, batch_size=5,verbose=0)\n",
    "clf.fit(train_new,keras_label)\n"
   ]
  },
  {
   "cell_type": "code",
   "execution_count": 73,
   "metadata": {},
   "outputs": [
    {
     "name": "stdout",
     "output_type": "stream",
     "text": [
      "      1stFlrSF  2ndFlrSF  3SsnPorch Alley  BedroomAbvGr  BldgType  BsmtCond  \\\n",
      "0    -0.805990  1.185669  -0.128701   NaN      0.165909 -0.429953  0.118048   \n",
      "1     0.433256 -0.867410  -0.128701   NaN      0.165909 -0.429953  0.118048   \n",
      "2    -0.575842  1.189908  -0.128701   NaN      0.165909 -0.429953  0.118048   \n",
      "3    -0.436663  1.148647  -0.128701   NaN      0.165909 -0.429953  1.927294   \n",
      "4     0.122612  1.249303  -0.128701   NaN      1.392121 -0.429953  0.118048   \n",
      "5    -1.037931  1.060758   8.517034   NaN     -2.286515 -0.429953  0.118048   \n",
      "6     1.373355 -0.867410  -0.128701   NaN      0.165909 -0.429953  0.118048   \n",
      "7     0.014856  1.228404  -0.128701   NaN      0.165909 -0.429953  0.118048   \n",
      "8    -0.240201  1.147036  -0.128701   NaN     -1.060303 -0.429953  0.118048   \n",
      "9    -0.072858 -0.867410  -0.128701   NaN     -1.060303  0.918868  0.118048   \n",
      "10   -0.184464 -0.867410  -0.128701   NaN      0.165909 -0.429953  0.118048   \n",
      "11    0.224153  1.273956  -0.128701   NaN      1.392121 -0.429953  0.118048   \n",
      "12   -0.603720 -0.867410  -0.128701   NaN     -1.060303 -0.429953  0.118048   \n",
      "13    0.972137 -0.867410  -0.128701   NaN      0.165909 -0.429953  0.118048   \n",
      "14    0.410403 -0.867410  -0.128701   NaN     -1.060303 -0.429953  0.118048   \n",
      "15   -0.813456 -0.867410  -0.128701   NaN     -1.060303 -0.429953  0.118048   \n",
      "16   -0.296928 -0.867410  -0.128701   NaN     -1.060303 -0.429953  0.118048   \n",
      "17    0.518142 -0.867410  -0.128701   NaN     -1.060303  1.707877 -5.309689   \n",
      "18    0.034981 -0.867410  -0.128701   NaN      0.165909 -0.429953  0.118048   \n",
      "19    0.622366 -0.867410  -0.128701   NaN      0.165909 -0.429953  0.118048   \n",
      "20    0.158658  1.293532  -0.128701   NaN      1.392121 -0.429953  0.118048   \n",
      "21    0.017739 -0.867410  -0.128701  Grvl      0.165909 -0.429953  0.118048   \n",
      "22    1.558310 -0.867410  -0.128701   NaN      0.165909 -0.429953  0.118048   \n",
      "23   -0.123653 -0.867410  -0.128701   NaN      0.165909  2.701912  0.118048   \n",
      "24   -0.123653 -0.867410  -0.128701   NaN      0.165909 -0.429953  0.118048   \n",
      "25    1.191037 -0.867410  -0.128701   NaN      0.165909 -0.429953  0.118048   \n",
      "26   -0.645999 -0.867410  -0.128701   NaN      0.165909 -0.429953  0.118048   \n",
      "27    1.392153 -0.867410  -0.128701   NaN      0.165909 -0.429953  0.118048   \n",
      "28    1.191037 -0.867410  -0.128701   NaN     -1.060303 -0.429953  0.118048   \n",
      "29   -2.396362 -0.867410  -0.128701   NaN     -2.286515 -0.429953  0.118048   \n",
      "...        ...       ...        ...   ...           ...       ...       ...   \n",
      "1430 -1.296718  1.263673  -0.128701   NaN      1.392121 -0.429953  1.927294   \n",
      "1431 -0.446644 -0.867410  -0.128701   NaN     -1.060303  2.701912  0.118048   \n",
      "1432 -0.413495 -0.867410  -0.128701  Grvl      1.392121 -0.429953  0.118048   \n",
      "1433 -0.433343  1.177011  -0.128701   NaN      0.165909 -0.429953  0.118048   \n",
      "1434  0.069188 -0.867410  -0.128701   NaN      0.165909 -0.429953  0.118048   \n",
      "1435  1.062751 -0.867410  -0.128701   NaN      0.165909 -0.429953  0.118048   \n",
      "1436 -0.776299 -0.867410  -0.128701   NaN      0.165909 -0.429953  0.118048   \n",
      "1437  1.793216 -0.867410   8.440441   NaN     -1.060303 -0.429953  0.118048   \n",
      "1438  0.366787 -0.867410  -0.128701   NaN     -1.060303 -0.429953  0.118048   \n",
      "1439 -0.184464  1.118697  -0.128701   NaN      0.165909 -0.429953  0.118048   \n",
      "1440  0.816654  1.145416  -0.128701   NaN      0.165909 -0.429953  0.118048   \n",
      "1441 -0.835960 -0.867410  -0.128701   NaN     -2.286515  2.701912  0.118048   \n",
      "1442 -0.227731  1.227785  -0.128701   NaN      0.165909 -0.429953  0.118048   \n",
      "1443 -0.466699 -0.867410  -0.128701   NaN     -1.060303 -0.429953  0.118048   \n",
      "1444  0.814410 -0.867410  -0.128701   NaN      0.165909 -0.429953  0.118048   \n",
      "1445 -0.600222 -0.867410  -0.128701   NaN      0.165909 -0.429953  0.118048   \n",
      "1446  0.240319 -0.867410  -0.128701   NaN      0.165909 -0.429953  0.118048   \n",
      "1447  0.325185  1.191308  -0.128701   NaN      0.165909 -0.429953  0.118048   \n",
      "1448 -1.037931  1.052053  -0.128701   NaN     -1.060303 -0.429953  0.118048   \n",
      "1449 -1.784242 -0.867410  -0.128701   NaN     -2.286515  2.267688  0.118048   \n",
      "1450 -0.660217  1.200253  -0.128701   NaN      1.392121  1.707877  0.118048   \n",
      "1451  1.146822 -0.867410  -0.128701   NaN      0.165909 -0.429953  0.118048   \n",
      "1452 -0.087714 -0.867410  -0.128701   NaN     -1.060303  2.701912  0.118048   \n",
      "1453  0.108640 -0.867410  -0.128701   NaN      0.165909 -0.429953  0.118048   \n",
      "1454  0.327801 -0.867410  -0.128701  Pave     -1.060303 -0.429953  0.118048   \n",
      "1455 -0.463348  1.122661  -0.128701   NaN      0.165909 -0.429953  0.118048   \n",
      "1456  2.018200 -0.867410  -0.128701   NaN      0.165909 -0.429953  0.118048   \n",
      "1457  0.240319  1.276605  -0.128701   NaN      1.392121 -0.429953  1.927294   \n",
      "1458 -0.069895 -0.867410  -0.128701   NaN     -1.060303 -0.429953  0.118048   \n",
      "1459  0.418039 -0.867410  -0.128701   NaN      0.165909 -0.429953  0.118048   \n",
      "\n",
      "      BsmtExposure  BsmtFinSF1  BsmtFinSF2  \\\n",
      "0        -0.550244    0.625446   -0.355892   \n",
      "1         1.960243    1.257846   -0.355892   \n",
      "2         0.560664    0.113946   -0.355892   \n",
      "3        -0.550244   -0.513805   -0.355892   \n",
      "4         1.348866    0.506871   -0.355892   \n",
      "5        -0.550244    0.685896   -0.355892   \n",
      "6         1.348866    2.166922   -0.355892   \n",
      "7         0.560664    0.981171    1.537567   \n",
      "8        -0.550244   -1.016005   -0.355892   \n",
      "9        -0.550244    0.962571   -0.355892   \n",
      "10       -0.550244    1.090446   -0.355892   \n",
      "11       -0.550244    1.304347   -0.355892   \n",
      "12       -0.550244    0.697521   -0.355892   \n",
      "13        1.348866   -1.016005   -0.355892   \n",
      "14       -0.550244    0.688221   -0.355892   \n",
      "15       -0.550244   -1.016005   -0.355892   \n",
      "16       -0.550244    0.327846   -0.355892   \n",
      "17       -2.449355   -1.016005   -0.355892   \n",
      "18       -0.550244    0.485946   -0.355892   \n",
      "19       -0.550244    0.155796   -0.355892   \n",
      "20        1.348866   -1.016005   -0.355892   \n",
      "21       -0.550244   -1.016005   -0.355892   \n",
      "22       -0.550244   -1.016005   -0.355892   \n",
      "23       -0.550244    0.936996   -0.355892   \n",
      "24        0.560664   -0.578905    3.167177   \n",
      "25       -0.550244   -1.016005   -0.355892   \n",
      "26        0.560664   -0.471955    2.995231   \n",
      "27       -0.550244    1.815847   -0.355892   \n",
      "28        1.960243    1.953022   -0.355892   \n",
      "29       -0.550244   -1.016005   -0.355892   \n",
      "...            ...         ...         ...   \n",
      "1430      1.348866   -1.016005   -0.355892   \n",
      "1431     -0.550244    1.211346   -0.355892   \n",
      "1432     -0.550244   -1.016005   -0.355892   \n",
      "1433     -0.550244   -1.016005   -0.355892   \n",
      "1434     -0.550244    1.160196   -0.355892   \n",
      "1435     -0.550244   -1.016005   -0.355892   \n",
      "1436     -0.550244    0.416196   -0.355892   \n",
      "1437      1.348866    2.090197   -0.355892   \n",
      "1438     -0.550244    0.378996   -0.355892   \n",
      "1439     -0.550244   -0.283629    2.194454   \n",
      "1440     -0.550244   -1.016005   -0.355892   \n",
      "1441      1.348866    0.604521   -0.355892   \n",
      "1442      1.348866    0.762621   -0.355892   \n",
      "1443     -0.550244   -1.016005   -0.355892   \n",
      "1444      1.348866   -1.016005   -0.355892   \n",
      "1445      1.960243   -0.581230    3.132929   \n",
      "1446     -0.550244    0.362721   -0.355892   \n",
      "1447     -0.550244    1.492672   -0.355892   \n",
      "1448     -0.550244   -1.016005   -0.355892   \n",
      "1449      1.348866    0.269721   -0.355892   \n",
      "1450     -0.550244   -1.016005   -0.355892   \n",
      "1451     -0.550244   -1.016005   -0.355892   \n",
      "1452      1.960243    0.255771   -0.355892   \n",
      "1453     -0.550244   -1.016005   -0.355892   \n",
      "1454     -0.550244   -0.062754   -0.355892   \n",
      "1455     -0.550244   -1.016005   -0.355892   \n",
      "1456     -0.550244    0.820746    2.405832   \n",
      "1457     -0.550244   -0.376629   -0.355892   \n",
      "1458      0.560664   -0.902080    3.400863   \n",
      "1459     -0.550244    0.913746    2.716376   \n",
      "\n",
      "                      ...                   _YearBuiltBin_YearBin3  \\\n",
      "0                     ...                                        0   \n",
      "1                     ...                                        0   \n",
      "2                     ...                                        0   \n",
      "3                     ...                                        1   \n",
      "4                     ...                                        0   \n",
      "5                     ...                                        0   \n",
      "6                     ...                                        0   \n",
      "7                     ...                                        0   \n",
      "8                     ...                                        0   \n",
      "9                     ...                                        0   \n",
      "10                    ...                                        0   \n",
      "11                    ...                                        0   \n",
      "12                    ...                                        0   \n",
      "13                    ...                                        0   \n",
      "14                    ...                                        0   \n",
      "15                    ...                                        1   \n",
      "16                    ...                                        0   \n",
      "17                    ...                                        0   \n",
      "18                    ...                                        0   \n",
      "19                    ...                                        0   \n",
      "20                    ...                                        0   \n",
      "21                    ...                                        1   \n",
      "22                    ...                                        0   \n",
      "23                    ...                                        0   \n",
      "24                    ...                                        0   \n",
      "25                    ...                                        0   \n",
      "26                    ...                                        0   \n",
      "27                    ...                                        0   \n",
      "28                    ...                                        0   \n",
      "29                    ...                                        1   \n",
      "...                   ...                                      ...   \n",
      "1430                  ...                                        0   \n",
      "1431                  ...                                        0   \n",
      "1432                  ...                                        1   \n",
      "1433                  ...                                        0   \n",
      "1434                  ...                                        0   \n",
      "1435                  ...                                        0   \n",
      "1436                  ...                                        0   \n",
      "1437                  ...                                        0   \n",
      "1438                  ...                                        0   \n",
      "1439                  ...                                        0   \n",
      "1440                  ...                                        1   \n",
      "1441                  ...                                        0   \n",
      "1442                  ...                                        0   \n",
      "1443                  ...                                        1   \n",
      "1444                  ...                                        0   \n",
      "1445                  ...                                        0   \n",
      "1446                  ...                                        0   \n",
      "1447                  ...                                        0   \n",
      "1448                  ...                                        0   \n",
      "1449                  ...                                        0   \n",
      "1450                  ...                                        0   \n",
      "1451                  ...                                        0   \n",
      "1452                  ...                                        0   \n",
      "1453                  ...                                        0   \n",
      "1454                  ...                                        0   \n",
      "1455                  ...                                        0   \n",
      "1456                  ...                                        0   \n",
      "1457                  ...                                        0   \n",
      "1458                  ...                                        0   \n",
      "1459                  ...                                        0   \n",
      "\n",
      "      _YearBuiltBin_YearBin4  _YearBuiltBin_YearBin5  _YearBuiltBin_YearBin6  \\\n",
      "0                          0                       0                       0   \n",
      "1                          0                       0                       1   \n",
      "2                          0                       0                       0   \n",
      "3                          0                       0                       0   \n",
      "4                          0                       0                       0   \n",
      "5                          0                       0                       0   \n",
      "6                          0                       0                       0   \n",
      "7                          0                       0                       1   \n",
      "8                          1                       0                       0   \n",
      "9                          1                       0                       0   \n",
      "10                         0                       1                       0   \n",
      "11                         0                       0                       0   \n",
      "12                         0                       1                       0   \n",
      "13                         0                       0                       0   \n",
      "14                         0                       1                       0   \n",
      "15                         0                       0                       0   \n",
      "16                         0                       1                       0   \n",
      "17                         0                       1                       0   \n",
      "18                         0                       0                       0   \n",
      "19                         0                       1                       0   \n",
      "20                         0                       0                       0   \n",
      "21                         0                       0                       0   \n",
      "22                         0                       0                       0   \n",
      "23                         0                       0                       1   \n",
      "24                         0                       1                       0   \n",
      "25                         0                       0                       0   \n",
      "26                         0                       1                       0   \n",
      "27                         0                       0                       0   \n",
      "28                         0                       1                       0   \n",
      "29                         0                       0                       0   \n",
      "...                      ...                     ...                     ...   \n",
      "1430                       0                       0                       0   \n",
      "1431                       0                       0                       1   \n",
      "1432                       0                       0                       0   \n",
      "1433                       0                       0                       0   \n",
      "1434                       0                       0                       1   \n",
      "1435                       0                       1                       0   \n",
      "1436                       0                       0                       1   \n",
      "1437                       0                       0                       0   \n",
      "1438                       0                       1                       0   \n",
      "1439                       0                       0                       1   \n",
      "1440                       0                       0                       0   \n",
      "1441                       0                       0                       0   \n",
      "1442                       0                       0                       0   \n",
      "1443                       0                       0                       0   \n",
      "1444                       0                       0                       0   \n",
      "1445                       0                       1                       0   \n",
      "1446                       0                       1                       0   \n",
      "1447                       0                       0                       0   \n",
      "1448                       0                       0                       0   \n",
      "1449                       0                       1                       0   \n",
      "1450                       0                       0                       1   \n",
      "1451                       0                       0                       0   \n",
      "1452                       0                       0                       0   \n",
      "1453                       0                       0                       0   \n",
      "1454                       0                       0                       0   \n",
      "1455                       0                       0                       0   \n",
      "1456                       0                       0                       1   \n",
      "1457                       1                       0                       0   \n",
      "1458                       1                       0                       0   \n",
      "1459                       0                       1                       0   \n",
      "\n",
      "      _YearBuiltBin_YearBin7  _YearRemodAddBin_YearBin4  \\\n",
      "0                          1                          0   \n",
      "1                          0                          0   \n",
      "2                          1                          0   \n",
      "3                          0                          0   \n",
      "4                          1                          0   \n",
      "5                          1                          0   \n",
      "6                          1                          0   \n",
      "7                          0                          0   \n",
      "8                          0                          1   \n",
      "9                          0                          1   \n",
      "10                         0                          0   \n",
      "11                         1                          0   \n",
      "12                         0                          0   \n",
      "13                         1                          0   \n",
      "14                         0                          0   \n",
      "15                         0                          0   \n",
      "16                         0                          0   \n",
      "17                         0                          0   \n",
      "18                         1                          0   \n",
      "19                         0                          0   \n",
      "20                         1                          0   \n",
      "21                         0                          1   \n",
      "22                         1                          0   \n",
      "23                         0                          0   \n",
      "24                         0                          0   \n",
      "25                         1                          0   \n",
      "26                         0                          0   \n",
      "27                         1                          0   \n",
      "28                         0                          0   \n",
      "29                         0                          1   \n",
      "...                      ...                        ...   \n",
      "1430                       1                          0   \n",
      "1431                       0                          0   \n",
      "1432                       0                          0   \n",
      "1433                       1                          0   \n",
      "1434                       0                          0   \n",
      "1435                       0                          0   \n",
      "1436                       0                          0   \n",
      "1437                       1                          0   \n",
      "1438                       0                          0   \n",
      "1439                       0                          0   \n",
      "1440                       0                          0   \n",
      "1441                       1                          0   \n",
      "1442                       1                          0   \n",
      "1443                       0                          1   \n",
      "1444                       1                          0   \n",
      "1445                       0                          0   \n",
      "1446                       0                          0   \n",
      "1447                       1                          0   \n",
      "1448                       0                          0   \n",
      "1449                       0                          0   \n",
      "1450                       0                          0   \n",
      "1451                       1                          0   \n",
      "1452                       1                          0   \n",
      "1453                       1                          0   \n",
      "1454                       1                          0   \n",
      "1455                       1                          0   \n",
      "1456                       0                          0   \n",
      "1457                       0                          0   \n",
      "1458                       0                          0   \n",
      "1459                       0                          0   \n",
      "\n",
      "      _YearRemodAddBin_YearBin5  _YearRemodAddBin_YearBin6  \\\n",
      "0                             0                          0   \n",
      "1                             0                          1   \n",
      "2                             0                          0   \n",
      "3                             1                          0   \n",
      "4                             0                          0   \n",
      "5                             0                          0   \n",
      "6                             0                          0   \n",
      "7                             0                          1   \n",
      "8                             0                          0   \n",
      "9                             0                          0   \n",
      "10                            1                          0   \n",
      "11                            0                          0   \n",
      "12                            1                          0   \n",
      "13                            0                          0   \n",
      "14                            1                          0   \n",
      "15                            0                          0   \n",
      "16                            1                          0   \n",
      "17                            1                          0   \n",
      "18                            0                          0   \n",
      "19                            1                          0   \n",
      "20                            0                          0   \n",
      "21                            0                          0   \n",
      "22                            0                          0   \n",
      "23                            0                          1   \n",
      "24                            0                          0   \n",
      "25                            0                          0   \n",
      "26                            0                          0   \n",
      "27                            0                          0   \n",
      "28                            0                          0   \n",
      "29                            0                          0   \n",
      "...                         ...                        ...   \n",
      "1430                          0                          0   \n",
      "1431                          0                          1   \n",
      "1432                          0                          0   \n",
      "1433                          0                          0   \n",
      "1434                          0                          1   \n",
      "1435                          0                          0   \n",
      "1436                          0                          1   \n",
      "1437                          0                          0   \n",
      "1438                          0                          0   \n",
      "1439                          0                          1   \n",
      "1440                          0                          0   \n",
      "1441                          0                          0   \n",
      "1442                          0                          0   \n",
      "1443                          0                          0   \n",
      "1444                          0                          0   \n",
      "1445                          1                          0   \n",
      "1446                          1                          0   \n",
      "1447                          0                          0   \n",
      "1448                          0                          0   \n",
      "1449                          1                          0   \n",
      "1450                          0                          1   \n",
      "1451                          0                          0   \n",
      "1452                          0                          0   \n",
      "1453                          0                          0   \n",
      "1454                          0                          0   \n",
      "1455                          0                          0   \n",
      "1456                          0                          1   \n",
      "1457                          0                          0   \n",
      "1458                          0                          0   \n",
      "1459                          1                          0   \n",
      "\n",
      "     _YearRemodAddBin_YearBin7 _NeighborhoodBin_-0.04760808471778121  \n",
      "0                            1                                     0  \n",
      "1                            0                                     0  \n",
      "2                            1                                     0  \n",
      "3                            0                                     0  \n",
      "4                            1                                     0  \n",
      "5                            1                                     0  \n",
      "6                            1                                     0  \n",
      "7                            0                                     0  \n",
      "8                            0                                     0  \n",
      "9                            0                                     0  \n",
      "10                           0                                     0  \n",
      "11                           1                                     0  \n",
      "12                           0                                     0  \n",
      "13                           1                                     0  \n",
      "14                           0                                     0  \n",
      "15                           1                                     0  \n",
      "16                           0                                     0  \n",
      "17                           0                                     0  \n",
      "18                           1                                     0  \n",
      "19                           0                                     0  \n",
      "20                           1                                     0  \n",
      "21                           0                                     0  \n",
      "22                           1                                     0  \n",
      "23                           0                                     0  \n",
      "24                           1                                     0  \n",
      "25                           1                                     0  \n",
      "26                           1                                     0  \n",
      "27                           1                                     0  \n",
      "28                           1                                     0  \n",
      "29                           0                                     0  \n",
      "...                        ...                                   ...  \n",
      "1430                         1                                     0  \n",
      "1431                         0                                     0  \n",
      "1432                         1                                     0  \n",
      "1433                         1                                     0  \n",
      "1434                         0                                     0  \n",
      "1435                         1                                     0  \n",
      "1436                         0                                     0  \n",
      "1437                         1                                     0  \n",
      "1438                         1                                     0  \n",
      "1439                         0                                     0  \n",
      "1440                         1                                     0  \n",
      "1441                         1                                     0  \n",
      "1442                         1                                     0  \n",
      "1443                         0                                     0  \n",
      "1444                         1                                     0  \n",
      "1445                         0                                     0  \n",
      "1446                         0                                     0  \n",
      "1447                         1                                     0  \n",
      "1448                         1                                     0  \n",
      "1449                         0                                     0  \n",
      "1450                         0                                     0  \n",
      "1451                         1                                     0  \n",
      "1452                         1                                     0  \n",
      "1453                         1                                     0  \n",
      "1454                         1                                     0  \n",
      "1455                         1                                     0  \n",
      "1456                         0                                     1  \n",
      "1457                         1                                     0  \n",
      "1458                         1                                     0  \n",
      "1459                         0                                     0  \n",
      "\n",
      "[1456 rows x 414 columns]\n"
     ]
    }
   ],
   "source": [
    "print(train_new)"
   ]
  }
 ],
 "metadata": {
  "kernelspec": {
   "display_name": "Python 3",
   "language": "python",
   "name": "python3"
  },
  "language_info": {
   "codemirror_mode": {
    "name": "ipython",
    "version": 3
   },
   "file_extension": ".py",
   "mimetype": "text/x-python",
   "name": "python",
   "nbconvert_exporter": "python",
   "pygments_lexer": "ipython3",
   "version": "3.6.3"
  }
 },
 "nbformat": 4,
 "nbformat_minor": 2
}
